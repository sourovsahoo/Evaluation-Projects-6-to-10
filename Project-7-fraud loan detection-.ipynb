{
 "cells": [
  {
   "cell_type": "raw",
   "metadata": {},
   "source": [
    "Data Understanding and pre data analysis:-\n",
    "\n",
    "This is a binary class classification problem.\n",
    "We will use accuracy_score as our evaluation metrics to predict wether the loan to be given-Yes(1) or \n",
    "                                                                                           Not (0).      "
   ]
  },
  {
   "cell_type": "code",
   "execution_count": 2,
   "metadata": {},
   "outputs": [
    {
     "name": "stderr",
     "output_type": "stream",
     "text": [
      "C:\\ProgramData\\Anaconda3\\lib\\site-packages\\sklearn\\externals\\joblib\\__init__.py:15: DeprecationWarning: sklearn.externals.joblib is deprecated in 0.21 and will be removed in 0.23. Please import this functionality directly from joblib, which can be installed with: pip install joblib. If this warning is raised when loading pickled models, you may need to re-serialize those models with scikit-learn 0.21+.\n",
      "  warnings.warn(msg, category=DeprecationWarning)\n"
     ]
    }
   ],
   "source": [
    "import numpy as np\n",
    "import pandas as pd\n",
    "import matplotlib.pyplot as plt\n",
    "import warnings\n",
    "warnings.filterwarnings('ignore')\n",
    "import seaborn as sns\n",
    "\n",
    "from sklearn.preprocessing import PowerTransformer\n",
    "from sklearn.preprocessing import StandardScaler\n",
    "from sklearn.model_selection import train_test_split,cross_val_score\n",
    "\n",
    "from sklearn.neighbors import KNeighborsClassifier\n",
    "from sklearn.svm import SVC\n",
    "from sklearn.linear_model import LogisticRegression\n",
    "from sklearn.tree import DecisionTreeClassifier\n",
    "from sklearn.naive_bayes import GaussianNB\n",
    "from sklearn.ensemble import RandomForestClassifier\n",
    "from xgboost import XGBClassifier\n",
    "from sklearn.ensemble import GradientBoostingClassifier\n",
    "from sklearn.ensemble import AdaBoostClassifier\n",
    "\n",
    "from sklearn.metrics import classification_report,confusion_matrix,accuracy_score\n",
    "from sklearn.model_selection import GridSearchCV\n",
    "\n",
    "from sklearn.model_selection import cross_val_predict\n",
    "\n",
    "from sklearn.externals import joblib"
   ]
  },
  {
   "cell_type": "code",
   "execution_count": 41,
   "metadata": {},
   "outputs": [],
   "source": [
    "df=pd.read_csv('fraud loan prediction.csv')\n",
    "pd.set_option('display.max_columns',None)"
   ]
  },
  {
   "cell_type": "code",
   "execution_count": 42,
   "metadata": {},
   "outputs": [
    {
     "data": {
      "text/html": [
       "<div>\n",
       "<style scoped>\n",
       "    .dataframe tbody tr th:only-of-type {\n",
       "        vertical-align: middle;\n",
       "    }\n",
       "\n",
       "    .dataframe tbody tr th {\n",
       "        vertical-align: top;\n",
       "    }\n",
       "\n",
       "    .dataframe thead th {\n",
       "        text-align: right;\n",
       "    }\n",
       "</style>\n",
       "<table border=\"1\" class=\"dataframe\">\n",
       "  <thead>\n",
       "    <tr style=\"text-align: right;\">\n",
       "      <th></th>\n",
       "      <th>Loan_ID</th>\n",
       "      <th>Gender</th>\n",
       "      <th>Married</th>\n",
       "      <th>Dependents</th>\n",
       "      <th>Education</th>\n",
       "      <th>Self_Employed</th>\n",
       "      <th>ApplicantIncome</th>\n",
       "      <th>CoapplicantIncome</th>\n",
       "      <th>LoanAmount</th>\n",
       "      <th>Loan_Amount_Term</th>\n",
       "      <th>Credit_History</th>\n",
       "      <th>Property_Area</th>\n",
       "      <th>Loan_Status</th>\n",
       "    </tr>\n",
       "  </thead>\n",
       "  <tbody>\n",
       "    <tr>\n",
       "      <td>0</td>\n",
       "      <td>LP001002</td>\n",
       "      <td>Male</td>\n",
       "      <td>No</td>\n",
       "      <td>0</td>\n",
       "      <td>Graduate</td>\n",
       "      <td>No</td>\n",
       "      <td>5849</td>\n",
       "      <td>0.0</td>\n",
       "      <td>NaN</td>\n",
       "      <td>360.0</td>\n",
       "      <td>1.0</td>\n",
       "      <td>Urban</td>\n",
       "      <td>Y</td>\n",
       "    </tr>\n",
       "    <tr>\n",
       "      <td>1</td>\n",
       "      <td>LP001003</td>\n",
       "      <td>Male</td>\n",
       "      <td>Yes</td>\n",
       "      <td>1</td>\n",
       "      <td>Graduate</td>\n",
       "      <td>No</td>\n",
       "      <td>4583</td>\n",
       "      <td>1508.0</td>\n",
       "      <td>128.0</td>\n",
       "      <td>360.0</td>\n",
       "      <td>1.0</td>\n",
       "      <td>Rural</td>\n",
       "      <td>N</td>\n",
       "    </tr>\n",
       "    <tr>\n",
       "      <td>2</td>\n",
       "      <td>LP001005</td>\n",
       "      <td>Male</td>\n",
       "      <td>Yes</td>\n",
       "      <td>0</td>\n",
       "      <td>Graduate</td>\n",
       "      <td>Yes</td>\n",
       "      <td>3000</td>\n",
       "      <td>0.0</td>\n",
       "      <td>66.0</td>\n",
       "      <td>360.0</td>\n",
       "      <td>1.0</td>\n",
       "      <td>Urban</td>\n",
       "      <td>Y</td>\n",
       "    </tr>\n",
       "    <tr>\n",
       "      <td>3</td>\n",
       "      <td>LP001006</td>\n",
       "      <td>Male</td>\n",
       "      <td>Yes</td>\n",
       "      <td>0</td>\n",
       "      <td>Not Graduate</td>\n",
       "      <td>No</td>\n",
       "      <td>2583</td>\n",
       "      <td>2358.0</td>\n",
       "      <td>120.0</td>\n",
       "      <td>360.0</td>\n",
       "      <td>1.0</td>\n",
       "      <td>Urban</td>\n",
       "      <td>Y</td>\n",
       "    </tr>\n",
       "    <tr>\n",
       "      <td>4</td>\n",
       "      <td>LP001008</td>\n",
       "      <td>Male</td>\n",
       "      <td>No</td>\n",
       "      <td>0</td>\n",
       "      <td>Graduate</td>\n",
       "      <td>No</td>\n",
       "      <td>6000</td>\n",
       "      <td>0.0</td>\n",
       "      <td>141.0</td>\n",
       "      <td>360.0</td>\n",
       "      <td>1.0</td>\n",
       "      <td>Urban</td>\n",
       "      <td>Y</td>\n",
       "    </tr>\n",
       "  </tbody>\n",
       "</table>\n",
       "</div>"
      ],
      "text/plain": [
       "    Loan_ID Gender Married Dependents     Education Self_Employed  \\\n",
       "0  LP001002   Male      No          0      Graduate            No   \n",
       "1  LP001003   Male     Yes          1      Graduate            No   \n",
       "2  LP001005   Male     Yes          0      Graduate           Yes   \n",
       "3  LP001006   Male     Yes          0  Not Graduate            No   \n",
       "4  LP001008   Male      No          0      Graduate            No   \n",
       "\n",
       "   ApplicantIncome  CoapplicantIncome  LoanAmount  Loan_Amount_Term  \\\n",
       "0             5849                0.0         NaN             360.0   \n",
       "1             4583             1508.0       128.0             360.0   \n",
       "2             3000                0.0        66.0             360.0   \n",
       "3             2583             2358.0       120.0             360.0   \n",
       "4             6000                0.0       141.0             360.0   \n",
       "\n",
       "   Credit_History Property_Area Loan_Status  \n",
       "0             1.0         Urban           Y  \n",
       "1             1.0         Rural           N  \n",
       "2             1.0         Urban           Y  \n",
       "3             1.0         Urban           Y  \n",
       "4             1.0         Urban           Y  "
      ]
     },
     "execution_count": 42,
     "metadata": {},
     "output_type": "execute_result"
    }
   ],
   "source": [
    "df.head()"
   ]
  },
  {
   "cell_type": "code",
   "execution_count": 43,
   "metadata": {},
   "outputs": [
    {
     "data": {
      "text/plain": [
       "(614, 13)"
      ]
     },
     "execution_count": 43,
     "metadata": {},
     "output_type": "execute_result"
    }
   ],
   "source": [
    "df.shape"
   ]
  },
  {
   "cell_type": "code",
   "execution_count": 44,
   "metadata": {},
   "outputs": [
    {
     "data": {
      "text/plain": [
       "Loan_ID               object\n",
       "Gender                object\n",
       "Married               object\n",
       "Dependents            object\n",
       "Education             object\n",
       "Self_Employed         object\n",
       "ApplicantIncome        int64\n",
       "CoapplicantIncome    float64\n",
       "LoanAmount           float64\n",
       "Loan_Amount_Term     float64\n",
       "Credit_History       float64\n",
       "Property_Area         object\n",
       "Loan_Status           object\n",
       "dtype: object"
      ]
     },
     "execution_count": 44,
     "metadata": {},
     "output_type": "execute_result"
    }
   ],
   "source": [
    "df.dtypes  #dependents columns is in object type but the data are numerical. "
   ]
  },
  {
   "cell_type": "code",
   "execution_count": 45,
   "metadata": {},
   "outputs": [
    {
     "data": {
      "text/plain": [
       "<matplotlib.axes._subplots.AxesSubplot at 0x26cc7eebb88>"
      ]
     },
     "execution_count": 45,
     "metadata": {},
     "output_type": "execute_result"
    },
    {
     "data": {
      "image/png": "[encoded data removed]",
      "text/plain": [
       "<Figure size 432x288 with 2 Axes>"
      ]
     },
     "metadata": {
      "needs_background": "light"
     },
     "output_type": "display_data"
    }
   ],
   "source": [
    "sns.heatmap(df.isnull())#there are missing values in the dataset"
   ]
  },
  {
   "cell_type": "code",
   "execution_count": 46,
   "metadata": {},
   "outputs": [
    {
     "data": {
      "text/plain": [
       "Loan_ID               0\n",
       "Gender               13\n",
       "Married               3\n",
       "Dependents           15\n",
       "Education             0\n",
       "Self_Employed        32\n",
       "ApplicantIncome       0\n",
       "CoapplicantIncome     0\n",
       "LoanAmount           22\n",
       "Loan_Amount_Term     14\n",
       "Credit_History       50\n",
       "Property_Area         0\n",
       "Loan_Status           0\n",
       "dtype: int64"
      ]
     },
     "execution_count": 46,
     "metadata": {},
     "output_type": "execute_result"
    }
   ],
   "source": [
    "df.isnull().sum()"
   ]
  },
  {
   "cell_type": "code",
   "execution_count": 47,
   "metadata": {},
   "outputs": [
    {
     "data": {
      "text/plain": [
       "Loan_ID               object\n",
       "Gender                object\n",
       "Married               object\n",
       "Dependents            object\n",
       "Education             object\n",
       "Self_Employed         object\n",
       "ApplicantIncome        int64\n",
       "CoapplicantIncome    float64\n",
       "LoanAmount           float64\n",
       "Loan_Amount_Term     float64\n",
       "Credit_History       float64\n",
       "Property_Area         object\n",
       "Loan_Status           object\n",
       "dtype: object"
      ]
     },
     "execution_count": 47,
     "metadata": {},
     "output_type": "execute_result"
    }
   ],
   "source": [
    "df.dtypes"
   ]
  },
  {
   "cell_type": "markdown",
   "metadata": {},
   "source": [
    "# Imputing missing values"
   ]
  },
  {
   "cell_type": "code",
   "execution_count": 48,
   "metadata": {},
   "outputs": [],
   "source": [
    "df['Gender']=df['Gender'].fillna(df['Gender'].mode()[0])\n",
    "df['Married']=df['Married'].fillna(df['Married'].mode()[0])\n",
    "df['Dependents']=df['Dependents'].fillna(df['Dependents'].mode()[0])    #numeric but treated as object.not changing dtype.\n",
    "df['Self_Employed']=df['Self_Employed'].fillna(df['Self_Employed'].mode()[0])\n",
    "df['LoanAmount']=df['LoanAmount'].fillna(df['LoanAmount'].mean())\n",
    "df['Loan_Amount_Term']=df['Loan_Amount_Term'].fillna(df['Loan_Amount_Term'].mean())\n",
    "df['Credit_History']=df['Credit_History'].fillna(df['Credit_History'].mean())"
   ]
  },
  {
   "cell_type": "code",
   "execution_count": 49,
   "metadata": {},
   "outputs": [
    {
     "data": {
      "text/plain": [
       "Loan_ID              0\n",
       "Gender               0\n",
       "Married              0\n",
       "Dependents           0\n",
       "Education            0\n",
       "Self_Employed        0\n",
       "ApplicantIncome      0\n",
       "CoapplicantIncome    0\n",
       "LoanAmount           0\n",
       "Loan_Amount_Term     0\n",
       "Credit_History       0\n",
       "Property_Area        0\n",
       "Loan_Status          0\n",
       "dtype: int64"
      ]
     },
     "execution_count": 49,
     "metadata": {},
     "output_type": "execute_result"
    }
   ],
   "source": [
    "df.isnull().sum()"
   ]
  },
  {
   "cell_type": "code",
   "execution_count": 51,
   "metadata": {},
   "outputs": [
    {
     "data": {
      "text/html": [
       "<div>\n",
       "<style scoped>\n",
       "    .dataframe tbody tr th:only-of-type {\n",
       "        vertical-align: middle;\n",
       "    }\n",
       "\n",
       "    .dataframe tbody tr th {\n",
       "        vertical-align: top;\n",
       "    }\n",
       "\n",
       "    .dataframe thead th {\n",
       "        text-align: right;\n",
       "    }\n",
       "</style>\n",
       "<table border=\"1\" class=\"dataframe\">\n",
       "  <thead>\n",
       "    <tr style=\"text-align: right;\">\n",
       "      <th></th>\n",
       "      <th>ApplicantIncome</th>\n",
       "      <th>CoapplicantIncome</th>\n",
       "      <th>LoanAmount</th>\n",
       "      <th>Loan_Amount_Term</th>\n",
       "      <th>Credit_History</th>\n",
       "    </tr>\n",
       "  </thead>\n",
       "  <tbody>\n",
       "    <tr>\n",
       "      <td>count</td>\n",
       "      <td>614.000000</td>\n",
       "      <td>614.000000</td>\n",
       "      <td>614.000000</td>\n",
       "      <td>614.000000</td>\n",
       "      <td>614.000000</td>\n",
       "    </tr>\n",
       "    <tr>\n",
       "      <td>mean</td>\n",
       "      <td>5403.459283</td>\n",
       "      <td>1621.245798</td>\n",
       "      <td>146.412162</td>\n",
       "      <td>342.000000</td>\n",
       "      <td>0.842199</td>\n",
       "    </tr>\n",
       "    <tr>\n",
       "      <td>std</td>\n",
       "      <td>6109.041673</td>\n",
       "      <td>2926.248369</td>\n",
       "      <td>84.037468</td>\n",
       "      <td>64.372489</td>\n",
       "      <td>0.349681</td>\n",
       "    </tr>\n",
       "    <tr>\n",
       "      <td>min</td>\n",
       "      <td>150.000000</td>\n",
       "      <td>0.000000</td>\n",
       "      <td>9.000000</td>\n",
       "      <td>12.000000</td>\n",
       "      <td>0.000000</td>\n",
       "    </tr>\n",
       "    <tr>\n",
       "      <td>25%</td>\n",
       "      <td>2877.500000</td>\n",
       "      <td>0.000000</td>\n",
       "      <td>100.250000</td>\n",
       "      <td>360.000000</td>\n",
       "      <td>1.000000</td>\n",
       "    </tr>\n",
       "    <tr>\n",
       "      <td>50%</td>\n",
       "      <td>3812.500000</td>\n",
       "      <td>1188.500000</td>\n",
       "      <td>129.000000</td>\n",
       "      <td>360.000000</td>\n",
       "      <td>1.000000</td>\n",
       "    </tr>\n",
       "    <tr>\n",
       "      <td>75%</td>\n",
       "      <td>5795.000000</td>\n",
       "      <td>2297.250000</td>\n",
       "      <td>164.750000</td>\n",
       "      <td>360.000000</td>\n",
       "      <td>1.000000</td>\n",
       "    </tr>\n",
       "    <tr>\n",
       "      <td>max</td>\n",
       "      <td>81000.000000</td>\n",
       "      <td>41667.000000</td>\n",
       "      <td>700.000000</td>\n",
       "      <td>480.000000</td>\n",
       "      <td>1.000000</td>\n",
       "    </tr>\n",
       "  </tbody>\n",
       "</table>\n",
       "</div>"
      ],
      "text/plain": [
       "       ApplicantIncome  CoapplicantIncome  LoanAmount  Loan_Amount_Term  \\\n",
       "count       614.000000         614.000000  614.000000        614.000000   \n",
       "mean       5403.459283        1621.245798  146.412162        342.000000   \n",
       "std        6109.041673        2926.248369   84.037468         64.372489   \n",
       "min         150.000000           0.000000    9.000000         12.000000   \n",
       "25%        2877.500000           0.000000  100.250000        360.000000   \n",
       "50%        3812.500000        1188.500000  129.000000        360.000000   \n",
       "75%        5795.000000        2297.250000  164.750000        360.000000   \n",
       "max       81000.000000       41667.000000  700.000000        480.000000   \n",
       "\n",
       "       Credit_History  \n",
       "count      614.000000  \n",
       "mean         0.842199  \n",
       "std          0.349681  \n",
       "min          0.000000  \n",
       "25%          1.000000  \n",
       "50%          1.000000  \n",
       "75%          1.000000  \n",
       "max          1.000000  "
      ]
     },
     "execution_count": 51,
     "metadata": {},
     "output_type": "execute_result"
    }
   ],
   "source": [
    "df.describe()"
   ]
  },
  {
   "cell_type": "code",
   "execution_count": null,
   "metadata": {},
   "outputs": [],
   "source": [
    "#outliers are present in some columns as difference between mean value and max value is very high."
   ]
  },
  {
   "cell_type": "markdown",
   "metadata": {},
   "source": [
    "# EDA"
   ]
  },
  {
   "cell_type": "code",
   "execution_count": 11,
   "metadata": {},
   "outputs": [
    {
     "data": {
      "image/png": "[encoded data removed]",
      "text/plain": [
       "<Figure size 432x288 with 1 Axes>"
      ]
     },
     "metadata": {
      "needs_background": "light"
     },
     "output_type": "display_data"
    },
    {
     "data": {
      "image/png": "[encoded data removed]",
      "text/plain": [
       "<Figure size 432x288 with 1 Axes>"
      ]
     },
     "metadata": {
      "needs_background": "light"
     },
     "output_type": "display_data"
    },
    {
     "data": {
      "image/png": "[encoded data removed]",
      "text/plain": [
       "<Figure size 432x288 with 1 Axes>"
      ]
     },
     "metadata": {
      "needs_background": "light"
     },
     "output_type": "display_data"
    },
    {
     "data": {
      "image/png": "[encoded data removed]",
      "text/plain": [
       "<Figure size 432x288 with 1 Axes>"
      ]
     },
     "metadata": {
      "needs_background": "light"
     },
     "output_type": "display_data"
    },
    {
     "data": {
      "image/png": "[encoded data removed]",
      "text/plain": [
       "<Figure size 432x288 with 1 Axes>"
      ]
     },
     "metadata": {
      "needs_background": "light"
     },
     "output_type": "display_data"
    }
   ],
   "source": [
    "#checking for skewness\n",
    "numerical_features=[feature for feature in df.columns if df[feature].dtypes!='object']\n",
    "for feature in numerical_features:\n",
    "    \n",
    "    df[feature].hist(bins=25)\n",
    "    plt.xlabel(feature)\n",
    "    plt.show()"
   ]
  },
  {
   "cell_type": "code",
   "execution_count": 12,
   "metadata": {},
   "outputs": [],
   "source": [
    "#checking relation of each attribute w.r.t target attribute"
   ]
  },
  {
   "cell_type": "code",
   "execution_count": 13,
   "metadata": {},
   "outputs": [
    {
     "data": {
      "image/png": "[encoded data removed]",
      "text/plain": [
       "<Figure size 432x288 with 1 Axes>"
      ]
     },
     "metadata": {
      "needs_background": "light"
     },
     "output_type": "display_data"
    },
    {
     "data": {
      "image/png": "[encoded data removed]",
      "text/plain": [
       "<Figure size 432x288 with 1 Axes>"
      ]
     },
     "metadata": {
      "needs_background": "light"
     },
     "output_type": "display_data"
    },
    {
     "data": {
      "image/png": "[encoded data removed]",
      "text/plain": [
       "<Figure size 432x288 with 1 Axes>"
      ]
     },
     "metadata": {
      "needs_background": "light"
     },
     "output_type": "display_data"
    },
    {
     "data": {
      "image/png": "[encoded data removed]",
      "text/plain": [
       "<Figure size 432x288 with 1 Axes>"
      ]
     },
     "metadata": {
      "needs_background": "light"
     },
     "output_type": "display_data"
    },
    {
     "data": {
      "image/png": "[encoded data removed]",
      "text/plain": [
       "<Figure size 432x288 with 1 Axes>"
      ]
     },
     "metadata": {
      "needs_background": "light"
     },
     "output_type": "display_data"
    }
   ],
   "source": [
    "numerical_features=[feature for feature in df.columns if df[feature].dtypes!='object']\n",
    "for feature in numerical_features:\n",
    "    \n",
    "    df.groupby('Loan_Status')[feature].mean().plot.bar()\n",
    "    plt.xlabel(feature)\n",
    "    plt.show()\n"
   ]
  },
  {
   "cell_type": "raw",
   "metadata": {},
   "source": [
    "Features mainly responsible for predicting wether to give loan or not are:-\n",
    "    \n",
    "    1-applicants income\n",
    "    2-loan amount\n",
    "    3-credit history"
   ]
  },
  {
   "cell_type": "code",
   "execution_count": 21,
   "metadata": {},
   "outputs": [
    {
     "data": {
      "image/png": "[encoded data removed]",
      "text/plain": [
       "<Figure size 432x288 with 1 Axes>"
      ]
     },
     "metadata": {
      "needs_background": "light"
     },
     "output_type": "display_data"
    },
    {
     "data": {
      "image/png": "[encoded data removed]",
      "text/plain": [
       "<Figure size 432x288 with 1 Axes>"
      ]
     },
     "metadata": {
      "needs_background": "light"
     },
     "output_type": "display_data"
    },
    {
     "data": {
      "image/png": "[encoded data removed]",
      "text/plain": [
       "<Figure size 432x288 with 1 Axes>"
      ]
     },
     "metadata": {
      "needs_background": "light"
     },
     "output_type": "display_data"
    },
    {
     "data": {
      "image/png": "[encoded data removed]",
      "text/plain": [
       "<Figure size 432x288 with 1 Axes>"
      ]
     },
     "metadata": {
      "needs_background": "light"
     },
     "output_type": "display_data"
    },
    {
     "data": {
      "image/png": "[encoded data removed]",
      "text/plain": [
       "<Figure size 432x288 with 1 Axes>"
      ]
     },
     "metadata": {
      "needs_background": "light"
     },
     "output_type": "display_data"
    }
   ],
   "source": [
    "#checking for outliers\n",
    "\n",
    "numerical_features=[feature for feature in df.columns if df[feature].dtypes!='object']\n",
    "for feature in numerical_features:\n",
    "    \n",
    "    df[feature].plot.box()\n",
    "    plt.xlabel(feature)\n",
    "    plt.show()"
   ]
  },
  {
   "cell_type": "code",
   "execution_count": 22,
   "metadata": {},
   "outputs": [
    {
     "data": {
      "text/plain": [
       "<matplotlib.axes._subplots.AxesSubplot at 0x215232fbf88>"
      ]
     },
     "execution_count": 22,
     "metadata": {},
     "output_type": "execute_result"
    },
    {
     "data": {
      "image/png": "[encoded data removed]",
      "text/plain": [
       "<Figure size 432x288 with 1 Axes>"
      ]
     },
     "metadata": {
      "needs_background": "light"
     },
     "output_type": "display_data"
    }
   ],
   "source": [
    "#checking if imbalanced dataset\n",
    "df['Loan_Status'].value_counts().plot.bar()"
   ]
  },
  {
   "cell_type": "markdown",
   "metadata": {},
   "source": [
    "# Feature Engineering"
   ]
  },
  {
   "cell_type": "code",
   "execution_count": 12,
   "metadata": {},
   "outputs": [
    {
     "data": {
      "text/plain": [
       "Y    422\n",
       "N    192\n",
       "Name: Loan_Status, dtype: int64"
      ]
     },
     "execution_count": 12,
     "metadata": {},
     "output_type": "execute_result"
    }
   ],
   "source": [
    "df['Loan_Status'].value_counts()"
   ]
  },
  {
   "cell_type": "code",
   "execution_count": 13,
   "metadata": {},
   "outputs": [
    {
     "name": "stdout",
     "output_type": "stream",
     "text": [
      "Loan_ID 614\n",
      "Gender 2\n",
      "Married 2\n",
      "Dependents 4\n",
      "Education 2\n",
      "Self_Employed 2\n",
      "Property_Area 3\n",
      "Loan_Status 2\n"
     ]
    }
   ],
   "source": [
    "categorical_features=[feature for feature in df.columns if df[feature].dtypes=='object']\n",
    "for feature in categorical_features:\n",
    "    if df[feature].nunique()>=2:\n",
    "        print(feature,df[feature].nunique())"
   ]
  },
  {
   "cell_type": "code",
   "execution_count": 14,
   "metadata": {},
   "outputs": [],
   "source": [
    "#Replacing instead of label encoding because we want Yes=1 & No=0\n",
    "df['Loan_Status']=df['Loan_Status'].replace(['Y','N'],[1,0])"
   ]
  },
  {
   "cell_type": "code",
   "execution_count": 15,
   "metadata": {},
   "outputs": [
    {
     "data": {
      "text/plain": [
       "1    422\n",
       "0    192\n",
       "Name: Loan_Status, dtype: int64"
      ]
     },
     "execution_count": 15,
     "metadata": {},
     "output_type": "execute_result"
    }
   ],
   "source": [
    "df['Loan_Status'].value_counts()"
   ]
  },
  {
   "cell_type": "markdown",
   "metadata": {},
   "source": [
    "# Making dummies"
   ]
  },
  {
   "cell_type": "code",
   "execution_count": 16,
   "metadata": {},
   "outputs": [],
   "source": [
    "df=pd.concat([df,pd.get_dummies(df['Gender'],prefix=str('Gender'),prefix_sep='_')],axis=1)\n",
    "df=pd.concat([df,pd.get_dummies(df['Married'],prefix=str('Married'),prefix_sep='_')],axis=1)\n",
    "df=pd.concat([df,pd.get_dummies(df['Dependents'],prefix=str('Dependents'),prefix_sep='_')],axis=1)\n",
    "df=pd.concat([df,pd.get_dummies(df['Education'],prefix=str('Education'),prefix_sep='_')],axis=1)\n",
    "df=pd.concat([df,pd.get_dummies(df['Self_Employed'],prefix=str('Self_Employed'),prefix_sep='_')],axis=1)\n",
    "df=pd.concat([df,pd.get_dummies(df['Property_Area'],prefix=str('Property_Area'),prefix_sep='_')],axis=1)\n"
   ]
  },
  {
   "cell_type": "code",
   "execution_count": 17,
   "metadata": {},
   "outputs": [],
   "source": [
    "#dropping columns as we have extracted data by dummies technique\n",
    "df=df.drop(['Loan_ID','Married','Gender','Dependents','Education','Self_Employed','Property_Area'],axis=1)"
   ]
  },
  {
   "cell_type": "code",
   "execution_count": 18,
   "metadata": {},
   "outputs": [
    {
     "data": {
      "text/html": [
       "<div>\n",
       "<style scoped>\n",
       "    .dataframe tbody tr th:only-of-type {\n",
       "        vertical-align: middle;\n",
       "    }\n",
       "\n",
       "    .dataframe tbody tr th {\n",
       "        vertical-align: top;\n",
       "    }\n",
       "\n",
       "    .dataframe thead th {\n",
       "        text-align: right;\n",
       "    }\n",
       "</style>\n",
       "<table border=\"1\" class=\"dataframe\">\n",
       "  <thead>\n",
       "    <tr style=\"text-align: right;\">\n",
       "      <th></th>\n",
       "      <th>ApplicantIncome</th>\n",
       "      <th>CoapplicantIncome</th>\n",
       "      <th>LoanAmount</th>\n",
       "      <th>Loan_Amount_Term</th>\n",
       "      <th>Credit_History</th>\n",
       "      <th>Loan_Status</th>\n",
       "      <th>Gender_Female</th>\n",
       "      <th>Gender_Male</th>\n",
       "      <th>Married_No</th>\n",
       "      <th>Married_Yes</th>\n",
       "      <th>Dependents_0</th>\n",
       "      <th>Dependents_1</th>\n",
       "      <th>Dependents_2</th>\n",
       "      <th>Dependents_3+</th>\n",
       "      <th>Education_Graduate</th>\n",
       "      <th>Education_Not Graduate</th>\n",
       "      <th>Self_Employed_No</th>\n",
       "      <th>Self_Employed_Yes</th>\n",
       "      <th>Property_Area_Rural</th>\n",
       "      <th>Property_Area_Semiurban</th>\n",
       "      <th>Property_Area_Urban</th>\n",
       "    </tr>\n",
       "  </thead>\n",
       "  <tbody>\n",
       "    <tr>\n",
       "      <td>0</td>\n",
       "      <td>5849</td>\n",
       "      <td>0.0</td>\n",
       "      <td>146.412162</td>\n",
       "      <td>360.0</td>\n",
       "      <td>1.0</td>\n",
       "      <td>1</td>\n",
       "      <td>0</td>\n",
       "      <td>1</td>\n",
       "      <td>1</td>\n",
       "      <td>0</td>\n",
       "      <td>1</td>\n",
       "      <td>0</td>\n",
       "      <td>0</td>\n",
       "      <td>0</td>\n",
       "      <td>1</td>\n",
       "      <td>0</td>\n",
       "      <td>1</td>\n",
       "      <td>0</td>\n",
       "      <td>0</td>\n",
       "      <td>0</td>\n",
       "      <td>1</td>\n",
       "    </tr>\n",
       "    <tr>\n",
       "      <td>1</td>\n",
       "      <td>4583</td>\n",
       "      <td>1508.0</td>\n",
       "      <td>128.000000</td>\n",
       "      <td>360.0</td>\n",
       "      <td>1.0</td>\n",
       "      <td>0</td>\n",
       "      <td>0</td>\n",
       "      <td>1</td>\n",
       "      <td>0</td>\n",
       "      <td>1</td>\n",
       "      <td>0</td>\n",
       "      <td>1</td>\n",
       "      <td>0</td>\n",
       "      <td>0</td>\n",
       "      <td>1</td>\n",
       "      <td>0</td>\n",
       "      <td>1</td>\n",
       "      <td>0</td>\n",
       "      <td>1</td>\n",
       "      <td>0</td>\n",
       "      <td>0</td>\n",
       "    </tr>\n",
       "    <tr>\n",
       "      <td>2</td>\n",
       "      <td>3000</td>\n",
       "      <td>0.0</td>\n",
       "      <td>66.000000</td>\n",
       "      <td>360.0</td>\n",
       "      <td>1.0</td>\n",
       "      <td>1</td>\n",
       "      <td>0</td>\n",
       "      <td>1</td>\n",
       "      <td>0</td>\n",
       "      <td>1</td>\n",
       "      <td>1</td>\n",
       "      <td>0</td>\n",
       "      <td>0</td>\n",
       "      <td>0</td>\n",
       "      <td>1</td>\n",
       "      <td>0</td>\n",
       "      <td>0</td>\n",
       "      <td>1</td>\n",
       "      <td>0</td>\n",
       "      <td>0</td>\n",
       "      <td>1</td>\n",
       "    </tr>\n",
       "    <tr>\n",
       "      <td>3</td>\n",
       "      <td>2583</td>\n",
       "      <td>2358.0</td>\n",
       "      <td>120.000000</td>\n",
       "      <td>360.0</td>\n",
       "      <td>1.0</td>\n",
       "      <td>1</td>\n",
       "      <td>0</td>\n",
       "      <td>1</td>\n",
       "      <td>0</td>\n",
       "      <td>1</td>\n",
       "      <td>1</td>\n",
       "      <td>0</td>\n",
       "      <td>0</td>\n",
       "      <td>0</td>\n",
       "      <td>0</td>\n",
       "      <td>1</td>\n",
       "      <td>1</td>\n",
       "      <td>0</td>\n",
       "      <td>0</td>\n",
       "      <td>0</td>\n",
       "      <td>1</td>\n",
       "    </tr>\n",
       "    <tr>\n",
       "      <td>4</td>\n",
       "      <td>6000</td>\n",
       "      <td>0.0</td>\n",
       "      <td>141.000000</td>\n",
       "      <td>360.0</td>\n",
       "      <td>1.0</td>\n",
       "      <td>1</td>\n",
       "      <td>0</td>\n",
       "      <td>1</td>\n",
       "      <td>1</td>\n",
       "      <td>0</td>\n",
       "      <td>1</td>\n",
       "      <td>0</td>\n",
       "      <td>0</td>\n",
       "      <td>0</td>\n",
       "      <td>1</td>\n",
       "      <td>0</td>\n",
       "      <td>1</td>\n",
       "      <td>0</td>\n",
       "      <td>0</td>\n",
       "      <td>0</td>\n",
       "      <td>1</td>\n",
       "    </tr>\n",
       "  </tbody>\n",
       "</table>\n",
       "</div>"
      ],
      "text/plain": [
       "   ApplicantIncome  CoapplicantIncome  LoanAmount  Loan_Amount_Term  \\\n",
       "0             5849                0.0  146.412162             360.0   \n",
       "1             4583             1508.0  128.000000             360.0   \n",
       "2             3000                0.0   66.000000             360.0   \n",
       "3             2583             2358.0  120.000000             360.0   \n",
       "4             6000                0.0  141.000000             360.0   \n",
       "\n",
       "   Credit_History  Loan_Status  Gender_Female  Gender_Male  Married_No  \\\n",
       "0             1.0            1              0            1           1   \n",
       "1             1.0            0              0            1           0   \n",
       "2             1.0            1              0            1           0   \n",
       "3             1.0            1              0            1           0   \n",
       "4             1.0            1              0            1           1   \n",
       "\n",
       "   Married_Yes  Dependents_0  Dependents_1  Dependents_2  Dependents_3+  \\\n",
       "0            0             1             0             0              0   \n",
       "1            1             0             1             0              0   \n",
       "2            1             1             0             0              0   \n",
       "3            1             1             0             0              0   \n",
       "4            0             1             0             0              0   \n",
       "\n",
       "   Education_Graduate  Education_Not Graduate  Self_Employed_No  \\\n",
       "0                   1                       0                 1   \n",
       "1                   1                       0                 1   \n",
       "2                   1                       0                 0   \n",
       "3                   0                       1                 1   \n",
       "4                   1                       0                 1   \n",
       "\n",
       "   Self_Employed_Yes  Property_Area_Rural  Property_Area_Semiurban  \\\n",
       "0                  0                    0                        0   \n",
       "1                  0                    1                        0   \n",
       "2                  1                    0                        0   \n",
       "3                  0                    0                        0   \n",
       "4                  0                    0                        0   \n",
       "\n",
       "   Property_Area_Urban  \n",
       "0                    1  \n",
       "1                    0  \n",
       "2                    1  \n",
       "3                    1  \n",
       "4                    1  "
      ]
     },
     "execution_count": 18,
     "metadata": {},
     "output_type": "execute_result"
    }
   ],
   "source": [
    "df.head()"
   ]
  },
  {
   "cell_type": "code",
   "execution_count": 19,
   "metadata": {},
   "outputs": [
    {
     "data": {
      "text/html": [
       "<div>\n",
       "<style scoped>\n",
       "    .dataframe tbody tr th:only-of-type {\n",
       "        vertical-align: middle;\n",
       "    }\n",
       "\n",
       "    .dataframe tbody tr th {\n",
       "        vertical-align: top;\n",
       "    }\n",
       "\n",
       "    .dataframe thead th {\n",
       "        text-align: right;\n",
       "    }\n",
       "</style>\n",
       "<table border=\"1\" class=\"dataframe\">\n",
       "  <thead>\n",
       "    <tr style=\"text-align: right;\">\n",
       "      <th></th>\n",
       "      <th>ApplicantIncome</th>\n",
       "      <th>CoapplicantIncome</th>\n",
       "      <th>LoanAmount</th>\n",
       "      <th>Loan_Amount_Term</th>\n",
       "      <th>Credit_History</th>\n",
       "      <th>Loan_Status</th>\n",
       "      <th>Gender_Female</th>\n",
       "      <th>Gender_Male</th>\n",
       "      <th>Married_No</th>\n",
       "      <th>Married_Yes</th>\n",
       "      <th>Dependents_0</th>\n",
       "      <th>Dependents_1</th>\n",
       "      <th>Dependents_2</th>\n",
       "      <th>Dependents_3+</th>\n",
       "      <th>Education_Graduate</th>\n",
       "      <th>Education_Not Graduate</th>\n",
       "      <th>Self_Employed_No</th>\n",
       "      <th>Self_Employed_Yes</th>\n",
       "      <th>Property_Area_Rural</th>\n",
       "      <th>Property_Area_Semiurban</th>\n",
       "      <th>Property_Area_Urban</th>\n",
       "    </tr>\n",
       "  </thead>\n",
       "  <tbody>\n",
       "    <tr>\n",
       "      <td>ApplicantIncome</td>\n",
       "      <td>1.000000</td>\n",
       "      <td>-0.116605</td>\n",
       "      <td>0.565620</td>\n",
       "      <td>-0.045242</td>\n",
       "      <td>-0.014477</td>\n",
       "      <td>-0.004710</td>\n",
       "      <td>-0.058809</td>\n",
       "      <td>0.058809</td>\n",
       "      <td>-0.051708</td>\n",
       "      <td>0.051708</td>\n",
       "      <td>-0.092599</td>\n",
       "      <td>0.040861</td>\n",
       "      <td>-0.034650</td>\n",
       "      <td>0.156687</td>\n",
       "      <td>0.140760</td>\n",
       "      <td>-0.140760</td>\n",
       "      <td>-0.127180</td>\n",
       "      <td>0.127180</td>\n",
       "      <td>0.015829</td>\n",
       "      <td>-0.014246</td>\n",
       "      <td>-0.000598</td>\n",
       "    </tr>\n",
       "    <tr>\n",
       "      <td>CoapplicantIncome</td>\n",
       "      <td>-0.116605</td>\n",
       "      <td>1.000000</td>\n",
       "      <td>0.187828</td>\n",
       "      <td>-0.059675</td>\n",
       "      <td>-0.001665</td>\n",
       "      <td>-0.059187</td>\n",
       "      <td>-0.082912</td>\n",
       "      <td>0.082912</td>\n",
       "      <td>-0.075948</td>\n",
       "      <td>0.075948</td>\n",
       "      <td>-0.008292</td>\n",
       "      <td>-0.029769</td>\n",
       "      <td>0.010016</td>\n",
       "      <td>0.041491</td>\n",
       "      <td>0.062290</td>\n",
       "      <td>-0.062290</td>\n",
       "      <td>0.016100</td>\n",
       "      <td>-0.016100</td>\n",
       "      <td>0.005329</td>\n",
       "      <td>-0.027044</td>\n",
       "      <td>0.022776</td>\n",
       "    </tr>\n",
       "    <tr>\n",
       "      <td>LoanAmount</td>\n",
       "      <td>0.565620</td>\n",
       "      <td>0.187828</td>\n",
       "      <td>1.000000</td>\n",
       "      <td>0.038801</td>\n",
       "      <td>-0.007738</td>\n",
       "      <td>-0.036416</td>\n",
       "      <td>-0.107930</td>\n",
       "      <td>0.107930</td>\n",
       "      <td>-0.147141</td>\n",
       "      <td>0.147141</td>\n",
       "      <td>-0.147688</td>\n",
       "      <td>0.062359</td>\n",
       "      <td>0.019547</td>\n",
       "      <td>0.153200</td>\n",
       "      <td>0.166998</td>\n",
       "      <td>-0.166998</td>\n",
       "      <td>-0.115260</td>\n",
       "      <td>0.115260</td>\n",
       "      <td>0.043178</td>\n",
       "      <td>-0.008273</td>\n",
       "      <td>-0.033220</td>\n",
       "    </tr>\n",
       "    <tr>\n",
       "      <td>Loan_Amount_Term</td>\n",
       "      <td>-0.045242</td>\n",
       "      <td>-0.059675</td>\n",
       "      <td>0.038801</td>\n",
       "      <td>1.000000</td>\n",
       "      <td>0.001395</td>\n",
       "      <td>-0.020974</td>\n",
       "      <td>0.073567</td>\n",
       "      <td>-0.073567</td>\n",
       "      <td>0.100863</td>\n",
       "      <td>-0.100863</td>\n",
       "      <td>0.114757</td>\n",
       "      <td>-0.086946</td>\n",
       "      <td>-0.007786</td>\n",
       "      <td>-0.077071</td>\n",
       "      <td>0.077242</td>\n",
       "      <td>-0.077242</td>\n",
       "      <td>0.033943</td>\n",
       "      <td>-0.033943</td>\n",
       "      <td>0.034433</td>\n",
       "      <td>0.061365</td>\n",
       "      <td>-0.096683</td>\n",
       "    </tr>\n",
       "    <tr>\n",
       "      <td>Credit_History</td>\n",
       "      <td>-0.014477</td>\n",
       "      <td>-0.001665</td>\n",
       "      <td>-0.007738</td>\n",
       "      <td>0.001395</td>\n",
       "      <td>1.000000</td>\n",
       "      <td>0.540483</td>\n",
       "      <td>-0.012819</td>\n",
       "      <td>0.012819</td>\n",
       "      <td>-0.005852</td>\n",
       "      <td>0.005852</td>\n",
       "      <td>0.021128</td>\n",
       "      <td>0.002531</td>\n",
       "      <td>0.012462</td>\n",
       "      <td>-0.057859</td>\n",
       "      <td>0.077936</td>\n",
       "      <td>-0.077936</td>\n",
       "      <td>0.002260</td>\n",
       "      <td>-0.002260</td>\n",
       "      <td>-0.020132</td>\n",
       "      <td>0.040757</td>\n",
       "      <td>-0.022621</td>\n",
       "    </tr>\n",
       "    <tr>\n",
       "      <td>Loan_Status</td>\n",
       "      <td>-0.004710</td>\n",
       "      <td>-0.059187</td>\n",
       "      <td>-0.036416</td>\n",
       "      <td>-0.020974</td>\n",
       "      <td>0.540483</td>\n",
       "      <td>1.000000</td>\n",
       "      <td>-0.017987</td>\n",
       "      <td>0.017987</td>\n",
       "      <td>-0.091478</td>\n",
       "      <td>0.091478</td>\n",
       "      <td>-0.003044</td>\n",
       "      <td>-0.038740</td>\n",
       "      <td>0.062384</td>\n",
       "      <td>-0.026123</td>\n",
       "      <td>0.085884</td>\n",
       "      <td>-0.085884</td>\n",
       "      <td>0.003700</td>\n",
       "      <td>-0.003700</td>\n",
       "      <td>-0.100694</td>\n",
       "      <td>0.136540</td>\n",
       "      <td>-0.043621</td>\n",
       "    </tr>\n",
       "    <tr>\n",
       "      <td>Gender_Female</td>\n",
       "      <td>-0.058809</td>\n",
       "      <td>-0.082912</td>\n",
       "      <td>-0.107930</td>\n",
       "      <td>0.073567</td>\n",
       "      <td>-0.012819</td>\n",
       "      <td>-0.017987</td>\n",
       "      <td>1.000000</td>\n",
       "      <td>-1.000000</td>\n",
       "      <td>0.364569</td>\n",
       "      <td>-0.364569</td>\n",
       "      <td>0.148421</td>\n",
       "      <td>0.004466</td>\n",
       "      <td>-0.129953</td>\n",
       "      <td>-0.096319</td>\n",
       "      <td>0.045364</td>\n",
       "      <td>-0.045364</td>\n",
       "      <td>-0.000525</td>\n",
       "      <td>0.000525</td>\n",
       "      <td>-0.080283</td>\n",
       "      <td>0.108623</td>\n",
       "      <td>-0.034530</td>\n",
       "    </tr>\n",
       "    <tr>\n",
       "      <td>Gender_Male</td>\n",
       "      <td>0.058809</td>\n",
       "      <td>0.082912</td>\n",
       "      <td>0.107930</td>\n",
       "      <td>-0.073567</td>\n",
       "      <td>0.012819</td>\n",
       "      <td>0.017987</td>\n",
       "      <td>-1.000000</td>\n",
       "      <td>1.000000</td>\n",
       "      <td>-0.364569</td>\n",
       "      <td>0.364569</td>\n",
       "      <td>-0.148421</td>\n",
       "      <td>-0.004466</td>\n",
       "      <td>0.129953</td>\n",
       "      <td>0.096319</td>\n",
       "      <td>-0.045364</td>\n",
       "      <td>0.045364</td>\n",
       "      <td>0.000525</td>\n",
       "      <td>-0.000525</td>\n",
       "      <td>0.080283</td>\n",
       "      <td>-0.108623</td>\n",
       "      <td>0.034530</td>\n",
       "    </tr>\n",
       "    <tr>\n",
       "      <td>Married_No</td>\n",
       "      <td>-0.051708</td>\n",
       "      <td>-0.075948</td>\n",
       "      <td>-0.147141</td>\n",
       "      <td>0.100863</td>\n",
       "      <td>-0.005852</td>\n",
       "      <td>-0.091478</td>\n",
       "      <td>0.364569</td>\n",
       "      <td>-0.364569</td>\n",
       "      <td>1.000000</td>\n",
       "      <td>-1.000000</td>\n",
       "      <td>0.348175</td>\n",
       "      <td>-0.113853</td>\n",
       "      <td>-0.249547</td>\n",
       "      <td>-0.132566</td>\n",
       "      <td>0.012304</td>\n",
       "      <td>-0.012304</td>\n",
       "      <td>0.004489</td>\n",
       "      <td>-0.004489</td>\n",
       "      <td>0.006805</td>\n",
       "      <td>-0.005845</td>\n",
       "      <td>-0.000546</td>\n",
       "    </tr>\n",
       "    <tr>\n",
       "      <td>Married_Yes</td>\n",
       "      <td>0.051708</td>\n",
       "      <td>0.075948</td>\n",
       "      <td>0.147141</td>\n",
       "      <td>-0.100863</td>\n",
       "      <td>0.005852</td>\n",
       "      <td>0.091478</td>\n",
       "      <td>-0.364569</td>\n",
       "      <td>0.364569</td>\n",
       "      <td>-1.000000</td>\n",
       "      <td>1.000000</td>\n",
       "      <td>-0.348175</td>\n",
       "      <td>0.113853</td>\n",
       "      <td>0.249547</td>\n",
       "      <td>0.132566</td>\n",
       "      <td>-0.012304</td>\n",
       "      <td>0.012304</td>\n",
       "      <td>-0.004489</td>\n",
       "      <td>0.004489</td>\n",
       "      <td>-0.006805</td>\n",
       "      <td>0.005845</td>\n",
       "      <td>0.000546</td>\n",
       "    </tr>\n",
       "    <tr>\n",
       "      <td>Dependents_0</td>\n",
       "      <td>-0.092599</td>\n",
       "      <td>-0.008292</td>\n",
       "      <td>-0.147688</td>\n",
       "      <td>0.114757</td>\n",
       "      <td>0.021128</td>\n",
       "      <td>-0.003044</td>\n",
       "      <td>0.148421</td>\n",
       "      <td>-0.148421</td>\n",
       "      <td>0.348175</td>\n",
       "      <td>-0.348175</td>\n",
       "      <td>1.000000</td>\n",
       "      <td>-0.531373</td>\n",
       "      <td>-0.528246</td>\n",
       "      <td>-0.358315</td>\n",
       "      <td>0.036563</td>\n",
       "      <td>-0.036563</td>\n",
       "      <td>0.088254</td>\n",
       "      <td>-0.088254</td>\n",
       "      <td>0.044015</td>\n",
       "      <td>-0.004173</td>\n",
       "      <td>-0.038264</td>\n",
       "    </tr>\n",
       "    <tr>\n",
       "      <td>Dependents_1</td>\n",
       "      <td>0.040861</td>\n",
       "      <td>-0.029769</td>\n",
       "      <td>0.062359</td>\n",
       "      <td>-0.086946</td>\n",
       "      <td>0.002531</td>\n",
       "      <td>-0.038740</td>\n",
       "      <td>0.004466</td>\n",
       "      <td>-0.004466</td>\n",
       "      <td>-0.113853</td>\n",
       "      <td>0.113853</td>\n",
       "      <td>-0.531373</td>\n",
       "      <td>1.000000</td>\n",
       "      <td>-0.198046</td>\n",
       "      <td>-0.134337</td>\n",
       "      <td>0.013355</td>\n",
       "      <td>-0.013355</td>\n",
       "      <td>-0.082044</td>\n",
       "      <td>0.082044</td>\n",
       "      <td>-0.084117</td>\n",
       "      <td>0.011661</td>\n",
       "      <td>0.069320</td>\n",
       "    </tr>\n",
       "    <tr>\n",
       "      <td>Dependents_2</td>\n",
       "      <td>-0.034650</td>\n",
       "      <td>0.010016</td>\n",
       "      <td>0.019547</td>\n",
       "      <td>-0.007786</td>\n",
       "      <td>0.012462</td>\n",
       "      <td>0.062384</td>\n",
       "      <td>-0.129953</td>\n",
       "      <td>0.129953</td>\n",
       "      <td>-0.249547</td>\n",
       "      <td>0.249547</td>\n",
       "      <td>-0.528246</td>\n",
       "      <td>-0.198046</td>\n",
       "      <td>1.000000</td>\n",
       "      <td>-0.133547</td>\n",
       "      <td>-0.020822</td>\n",
       "      <td>0.020822</td>\n",
       "      <td>-0.032434</td>\n",
       "      <td>0.032434</td>\n",
       "      <td>-0.004298</td>\n",
       "      <td>-0.012017</td>\n",
       "      <td>0.016569</td>\n",
       "    </tr>\n",
       "    <tr>\n",
       "      <td>Dependents_3+</td>\n",
       "      <td>0.156687</td>\n",
       "      <td>0.041491</td>\n",
       "      <td>0.153200</td>\n",
       "      <td>-0.077071</td>\n",
       "      <td>-0.057859</td>\n",
       "      <td>-0.026123</td>\n",
       "      <td>-0.096319</td>\n",
       "      <td>0.096319</td>\n",
       "      <td>-0.132566</td>\n",
       "      <td>0.132566</td>\n",
       "      <td>-0.358315</td>\n",
       "      <td>-0.134337</td>\n",
       "      <td>-0.133547</td>\n",
       "      <td>1.000000</td>\n",
       "      <td>-0.055288</td>\n",
       "      <td>0.055288</td>\n",
       "      <td>-0.003278</td>\n",
       "      <td>0.003278</td>\n",
       "      <td>0.040670</td>\n",
       "      <td>0.007863</td>\n",
       "      <td>-0.047460</td>\n",
       "    </tr>\n",
       "    <tr>\n",
       "      <td>Education_Graduate</td>\n",
       "      <td>0.140760</td>\n",
       "      <td>0.062290</td>\n",
       "      <td>0.166998</td>\n",
       "      <td>0.077242</td>\n",
       "      <td>0.077936</td>\n",
       "      <td>0.085884</td>\n",
       "      <td>0.045364</td>\n",
       "      <td>-0.045364</td>\n",
       "      <td>0.012304</td>\n",
       "      <td>-0.012304</td>\n",
       "      <td>0.036563</td>\n",
       "      <td>0.013355</td>\n",
       "      <td>-0.020822</td>\n",
       "      <td>-0.055288</td>\n",
       "      <td>1.000000</td>\n",
       "      <td>-1.000000</td>\n",
       "      <td>-0.010383</td>\n",
       "      <td>0.010383</td>\n",
       "      <td>-0.077520</td>\n",
       "      <td>0.039410</td>\n",
       "      <td>0.034279</td>\n",
       "    </tr>\n",
       "    <tr>\n",
       "      <td>Education_Not Graduate</td>\n",
       "      <td>-0.140760</td>\n",
       "      <td>-0.062290</td>\n",
       "      <td>-0.166998</td>\n",
       "      <td>-0.077242</td>\n",
       "      <td>-0.077936</td>\n",
       "      <td>-0.085884</td>\n",
       "      <td>-0.045364</td>\n",
       "      <td>0.045364</td>\n",
       "      <td>-0.012304</td>\n",
       "      <td>0.012304</td>\n",
       "      <td>-0.036563</td>\n",
       "      <td>-0.013355</td>\n",
       "      <td>0.020822</td>\n",
       "      <td>0.055288</td>\n",
       "      <td>-1.000000</td>\n",
       "      <td>1.000000</td>\n",
       "      <td>0.010383</td>\n",
       "      <td>-0.010383</td>\n",
       "      <td>0.077520</td>\n",
       "      <td>-0.039410</td>\n",
       "      <td>-0.034279</td>\n",
       "    </tr>\n",
       "    <tr>\n",
       "      <td>Self_Employed_No</td>\n",
       "      <td>-0.127180</td>\n",
       "      <td>0.016100</td>\n",
       "      <td>-0.115260</td>\n",
       "      <td>0.033943</td>\n",
       "      <td>0.002260</td>\n",
       "      <td>0.003700</td>\n",
       "      <td>-0.000525</td>\n",
       "      <td>0.000525</td>\n",
       "      <td>0.004489</td>\n",
       "      <td>-0.004489</td>\n",
       "      <td>0.088254</td>\n",
       "      <td>-0.082044</td>\n",
       "      <td>-0.032434</td>\n",
       "      <td>-0.003278</td>\n",
       "      <td>-0.010383</td>\n",
       "      <td>0.010383</td>\n",
       "      <td>1.000000</td>\n",
       "      <td>-1.000000</td>\n",
       "      <td>-0.022065</td>\n",
       "      <td>-0.008710</td>\n",
       "      <td>0.030338</td>\n",
       "    </tr>\n",
       "    <tr>\n",
       "      <td>Self_Employed_Yes</td>\n",
       "      <td>0.127180</td>\n",
       "      <td>-0.016100</td>\n",
       "      <td>0.115260</td>\n",
       "      <td>-0.033943</td>\n",
       "      <td>-0.002260</td>\n",
       "      <td>-0.003700</td>\n",
       "      <td>0.000525</td>\n",
       "      <td>-0.000525</td>\n",
       "      <td>-0.004489</td>\n",
       "      <td>0.004489</td>\n",
       "      <td>-0.088254</td>\n",
       "      <td>0.082044</td>\n",
       "      <td>0.032434</td>\n",
       "      <td>0.003278</td>\n",
       "      <td>0.010383</td>\n",
       "      <td>-0.010383</td>\n",
       "      <td>-1.000000</td>\n",
       "      <td>1.000000</td>\n",
       "      <td>0.022065</td>\n",
       "      <td>0.008710</td>\n",
       "      <td>-0.030338</td>\n",
       "    </tr>\n",
       "    <tr>\n",
       "      <td>Property_Area_Rural</td>\n",
       "      <td>0.015829</td>\n",
       "      <td>0.005329</td>\n",
       "      <td>0.043178</td>\n",
       "      <td>0.034433</td>\n",
       "      <td>-0.020132</td>\n",
       "      <td>-0.100694</td>\n",
       "      <td>-0.080283</td>\n",
       "      <td>0.080283</td>\n",
       "      <td>0.006805</td>\n",
       "      <td>-0.006805</td>\n",
       "      <td>0.044015</td>\n",
       "      <td>-0.084117</td>\n",
       "      <td>-0.004298</td>\n",
       "      <td>0.040670</td>\n",
       "      <td>-0.077520</td>\n",
       "      <td>0.077520</td>\n",
       "      <td>-0.022065</td>\n",
       "      <td>0.022065</td>\n",
       "      <td>1.000000</td>\n",
       "      <td>-0.501646</td>\n",
       "      <td>-0.449168</td>\n",
       "    </tr>\n",
       "    <tr>\n",
       "      <td>Property_Area_Semiurban</td>\n",
       "      <td>-0.014246</td>\n",
       "      <td>-0.027044</td>\n",
       "      <td>-0.008273</td>\n",
       "      <td>0.061365</td>\n",
       "      <td>0.040757</td>\n",
       "      <td>0.136540</td>\n",
       "      <td>0.108623</td>\n",
       "      <td>-0.108623</td>\n",
       "      <td>-0.005845</td>\n",
       "      <td>0.005845</td>\n",
       "      <td>-0.004173</td>\n",
       "      <td>0.011661</td>\n",
       "      <td>-0.012017</td>\n",
       "      <td>0.007863</td>\n",
       "      <td>0.039410</td>\n",
       "      <td>-0.039410</td>\n",
       "      <td>-0.008710</td>\n",
       "      <td>0.008710</td>\n",
       "      <td>-0.501646</td>\n",
       "      <td>1.000000</td>\n",
       "      <td>-0.547574</td>\n",
       "    </tr>\n",
       "    <tr>\n",
       "      <td>Property_Area_Urban</td>\n",
       "      <td>-0.000598</td>\n",
       "      <td>0.022776</td>\n",
       "      <td>-0.033220</td>\n",
       "      <td>-0.096683</td>\n",
       "      <td>-0.022621</td>\n",
       "      <td>-0.043621</td>\n",
       "      <td>-0.034530</td>\n",
       "      <td>0.034530</td>\n",
       "      <td>-0.000546</td>\n",
       "      <td>0.000546</td>\n",
       "      <td>-0.038264</td>\n",
       "      <td>0.069320</td>\n",
       "      <td>0.016569</td>\n",
       "      <td>-0.047460</td>\n",
       "      <td>0.034279</td>\n",
       "      <td>-0.034279</td>\n",
       "      <td>0.030338</td>\n",
       "      <td>-0.030338</td>\n",
       "      <td>-0.449168</td>\n",
       "      <td>-0.547574</td>\n",
       "      <td>1.000000</td>\n",
       "    </tr>\n",
       "  </tbody>\n",
       "</table>\n",
       "</div>"
      ],
      "text/plain": [
       "                         ApplicantIncome  CoapplicantIncome  LoanAmount  \\\n",
       "ApplicantIncome                 1.000000          -0.116605    0.565620   \n",
       "CoapplicantIncome              -0.116605           1.000000    0.187828   \n",
       "LoanAmount                      0.565620           0.187828    1.000000   \n",
       "Loan_Amount_Term               -0.045242          -0.059675    0.038801   \n",
       "Credit_History                 -0.014477          -0.001665   -0.007738   \n",
       "Loan_Status                    -0.004710          -0.059187   -0.036416   \n",
       "Gender_Female                  -0.058809          -0.082912   -0.107930   \n",
       "Gender_Male                     0.058809           0.082912    0.107930   \n",
       "Married_No                     -0.051708          -0.075948   -0.147141   \n",
       "Married_Yes                     0.051708           0.075948    0.147141   \n",
       "Dependents_0                   -0.092599          -0.008292   -0.147688   \n",
       "Dependents_1                    0.040861          -0.029769    0.062359   \n",
       "Dependents_2                   -0.034650           0.010016    0.019547   \n",
       "Dependents_3+                   0.156687           0.041491    0.153200   \n",
       "Education_Graduate              0.140760           0.062290    0.166998   \n",
       "Education_Not Graduate         -0.140760          -0.062290   -0.166998   \n",
       "Self_Employed_No               -0.127180           0.016100   -0.115260   \n",
       "Self_Employed_Yes               0.127180          -0.016100    0.115260   \n",
       "Property_Area_Rural             0.015829           0.005329    0.043178   \n",
       "Property_Area_Semiurban        -0.014246          -0.027044   -0.008273   \n",
       "Property_Area_Urban            -0.000598           0.022776   -0.033220   \n",
       "\n",
       "                         Loan_Amount_Term  Credit_History  Loan_Status  \\\n",
       "ApplicantIncome                 -0.045242       -0.014477    -0.004710   \n",
       "CoapplicantIncome               -0.059675       -0.001665    -0.059187   \n",
       "LoanAmount                       0.038801       -0.007738    -0.036416   \n",
       "Loan_Amount_Term                 1.000000        0.001395    -0.020974   \n",
       "Credit_History                   0.001395        1.000000     0.540483   \n",
       "Loan_Status                     -0.020974        0.540483     1.000000   \n",
       "Gender_Female                    0.073567       -0.012819    -0.017987   \n",
       "Gender_Male                     -0.073567        0.012819     0.017987   \n",
       "Married_No                       0.100863       -0.005852    -0.091478   \n",
       "Married_Yes                     -0.100863        0.005852     0.091478   \n",
       "Dependents_0                     0.114757        0.021128    -0.003044   \n",
       "Dependents_1                    -0.086946        0.002531    -0.038740   \n",
       "Dependents_2                    -0.007786        0.012462     0.062384   \n",
       "Dependents_3+                   -0.077071       -0.057859    -0.026123   \n",
       "Education_Graduate               0.077242        0.077936     0.085884   \n",
       "Education_Not Graduate          -0.077242       -0.077936    -0.085884   \n",
       "Self_Employed_No                 0.033943        0.002260     0.003700   \n",
       "Self_Employed_Yes               -0.033943       -0.002260    -0.003700   \n",
       "Property_Area_Rural              0.034433       -0.020132    -0.100694   \n",
       "Property_Area_Semiurban          0.061365        0.040757     0.136540   \n",
       "Property_Area_Urban             -0.096683       -0.022621    -0.043621   \n",
       "\n",
       "                         Gender_Female  Gender_Male  Married_No  Married_Yes  \\\n",
       "ApplicantIncome              -0.058809     0.058809   -0.051708     0.051708   \n",
       "CoapplicantIncome            -0.082912     0.082912   -0.075948     0.075948   \n",
       "LoanAmount                   -0.107930     0.107930   -0.147141     0.147141   \n",
       "Loan_Amount_Term              0.073567    -0.073567    0.100863    -0.100863   \n",
       "Credit_History               -0.012819     0.012819   -0.005852     0.005852   \n",
       "Loan_Status                  -0.017987     0.017987   -0.091478     0.091478   \n",
       "Gender_Female                 1.000000    -1.000000    0.364569    -0.364569   \n",
       "Gender_Male                  -1.000000     1.000000   -0.364569     0.364569   \n",
       "Married_No                    0.364569    -0.364569    1.000000    -1.000000   \n",
       "Married_Yes                  -0.364569     0.364569   -1.000000     1.000000   \n",
       "Dependents_0                  0.148421    -0.148421    0.348175    -0.348175   \n",
       "Dependents_1                  0.004466    -0.004466   -0.113853     0.113853   \n",
       "Dependents_2                 -0.129953     0.129953   -0.249547     0.249547   \n",
       "Dependents_3+                -0.096319     0.096319   -0.132566     0.132566   \n",
       "Education_Graduate            0.045364    -0.045364    0.012304    -0.012304   \n",
       "Education_Not Graduate       -0.045364     0.045364   -0.012304     0.012304   \n",
       "Self_Employed_No             -0.000525     0.000525    0.004489    -0.004489   \n",
       "Self_Employed_Yes             0.000525    -0.000525   -0.004489     0.004489   \n",
       "Property_Area_Rural          -0.080283     0.080283    0.006805    -0.006805   \n",
       "Property_Area_Semiurban       0.108623    -0.108623   -0.005845     0.005845   \n",
       "Property_Area_Urban          -0.034530     0.034530   -0.000546     0.000546   \n",
       "\n",
       "                         Dependents_0  Dependents_1  Dependents_2  \\\n",
       "ApplicantIncome             -0.092599      0.040861     -0.034650   \n",
       "CoapplicantIncome           -0.008292     -0.029769      0.010016   \n",
       "LoanAmount                  -0.147688      0.062359      0.019547   \n",
       "Loan_Amount_Term             0.114757     -0.086946     -0.007786   \n",
       "Credit_History               0.021128      0.002531      0.012462   \n",
       "Loan_Status                 -0.003044     -0.038740      0.062384   \n",
       "Gender_Female                0.148421      0.004466     -0.129953   \n",
       "Gender_Male                 -0.148421     -0.004466      0.129953   \n",
       "Married_No                   0.348175     -0.113853     -0.249547   \n",
       "Married_Yes                 -0.348175      0.113853      0.249547   \n",
       "Dependents_0                 1.000000     -0.531373     -0.528246   \n",
       "Dependents_1                -0.531373      1.000000     -0.198046   \n",
       "Dependents_2                -0.528246     -0.198046      1.000000   \n",
       "Dependents_3+               -0.358315     -0.134337     -0.133547   \n",
       "Education_Graduate           0.036563      0.013355     -0.020822   \n",
       "Education_Not Graduate      -0.036563     -0.013355      0.020822   \n",
       "Self_Employed_No             0.088254     -0.082044     -0.032434   \n",
       "Self_Employed_Yes           -0.088254      0.082044      0.032434   \n",
       "Property_Area_Rural          0.044015     -0.084117     -0.004298   \n",
       "Property_Area_Semiurban     -0.004173      0.011661     -0.012017   \n",
       "Property_Area_Urban         -0.038264      0.069320      0.016569   \n",
       "\n",
       "                         Dependents_3+  Education_Graduate  \\\n",
       "ApplicantIncome               0.156687            0.140760   \n",
       "CoapplicantIncome             0.041491            0.062290   \n",
       "LoanAmount                    0.153200            0.166998   \n",
       "Loan_Amount_Term             -0.077071            0.077242   \n",
       "Credit_History               -0.057859            0.077936   \n",
       "Loan_Status                  -0.026123            0.085884   \n",
       "Gender_Female                -0.096319            0.045364   \n",
       "Gender_Male                   0.096319           -0.045364   \n",
       "Married_No                   -0.132566            0.012304   \n",
       "Married_Yes                   0.132566           -0.012304   \n",
       "Dependents_0                 -0.358315            0.036563   \n",
       "Dependents_1                 -0.134337            0.013355   \n",
       "Dependents_2                 -0.133547           -0.020822   \n",
       "Dependents_3+                 1.000000           -0.055288   \n",
       "Education_Graduate           -0.055288            1.000000   \n",
       "Education_Not Graduate        0.055288           -1.000000   \n",
       "Self_Employed_No             -0.003278           -0.010383   \n",
       "Self_Employed_Yes             0.003278            0.010383   \n",
       "Property_Area_Rural           0.040670           -0.077520   \n",
       "Property_Area_Semiurban       0.007863            0.039410   \n",
       "Property_Area_Urban          -0.047460            0.034279   \n",
       "\n",
       "                         Education_Not Graduate  Self_Employed_No  \\\n",
       "ApplicantIncome                       -0.140760         -0.127180   \n",
       "CoapplicantIncome                     -0.062290          0.016100   \n",
       "LoanAmount                            -0.166998         -0.115260   \n",
       "Loan_Amount_Term                      -0.077242          0.033943   \n",
       "Credit_History                        -0.077936          0.002260   \n",
       "Loan_Status                           -0.085884          0.003700   \n",
       "Gender_Female                         -0.045364         -0.000525   \n",
       "Gender_Male                            0.045364          0.000525   \n",
       "Married_No                            -0.012304          0.004489   \n",
       "Married_Yes                            0.012304         -0.004489   \n",
       "Dependents_0                          -0.036563          0.088254   \n",
       "Dependents_1                          -0.013355         -0.082044   \n",
       "Dependents_2                           0.020822         -0.032434   \n",
       "Dependents_3+                          0.055288         -0.003278   \n",
       "Education_Graduate                    -1.000000         -0.010383   \n",
       "Education_Not Graduate                 1.000000          0.010383   \n",
       "Self_Employed_No                       0.010383          1.000000   \n",
       "Self_Employed_Yes                     -0.010383         -1.000000   \n",
       "Property_Area_Rural                    0.077520         -0.022065   \n",
       "Property_Area_Semiurban               -0.039410         -0.008710   \n",
       "Property_Area_Urban                   -0.034279          0.030338   \n",
       "\n",
       "                         Self_Employed_Yes  Property_Area_Rural  \\\n",
       "ApplicantIncome                   0.127180             0.015829   \n",
       "CoapplicantIncome                -0.016100             0.005329   \n",
       "LoanAmount                        0.115260             0.043178   \n",
       "Loan_Amount_Term                 -0.033943             0.034433   \n",
       "Credit_History                   -0.002260            -0.020132   \n",
       "Loan_Status                      -0.003700            -0.100694   \n",
       "Gender_Female                     0.000525            -0.080283   \n",
       "Gender_Male                      -0.000525             0.080283   \n",
       "Married_No                       -0.004489             0.006805   \n",
       "Married_Yes                       0.004489            -0.006805   \n",
       "Dependents_0                     -0.088254             0.044015   \n",
       "Dependents_1                      0.082044            -0.084117   \n",
       "Dependents_2                      0.032434            -0.004298   \n",
       "Dependents_3+                     0.003278             0.040670   \n",
       "Education_Graduate                0.010383            -0.077520   \n",
       "Education_Not Graduate           -0.010383             0.077520   \n",
       "Self_Employed_No                 -1.000000            -0.022065   \n",
       "Self_Employed_Yes                 1.000000             0.022065   \n",
       "Property_Area_Rural               0.022065             1.000000   \n",
       "Property_Area_Semiurban           0.008710            -0.501646   \n",
       "Property_Area_Urban              -0.030338            -0.449168   \n",
       "\n",
       "                         Property_Area_Semiurban  Property_Area_Urban  \n",
       "ApplicantIncome                        -0.014246            -0.000598  \n",
       "CoapplicantIncome                      -0.027044             0.022776  \n",
       "LoanAmount                             -0.008273            -0.033220  \n",
       "Loan_Amount_Term                        0.061365            -0.096683  \n",
       "Credit_History                          0.040757            -0.022621  \n",
       "Loan_Status                             0.136540            -0.043621  \n",
       "Gender_Female                           0.108623            -0.034530  \n",
       "Gender_Male                            -0.108623             0.034530  \n",
       "Married_No                             -0.005845            -0.000546  \n",
       "Married_Yes                             0.005845             0.000546  \n",
       "Dependents_0                           -0.004173            -0.038264  \n",
       "Dependents_1                            0.011661             0.069320  \n",
       "Dependents_2                           -0.012017             0.016569  \n",
       "Dependents_3+                           0.007863            -0.047460  \n",
       "Education_Graduate                      0.039410             0.034279  \n",
       "Education_Not Graduate                 -0.039410            -0.034279  \n",
       "Self_Employed_No                       -0.008710             0.030338  \n",
       "Self_Employed_Yes                       0.008710            -0.030338  \n",
       "Property_Area_Rural                    -0.501646            -0.449168  \n",
       "Property_Area_Semiurban                 1.000000            -0.547574  \n",
       "Property_Area_Urban                    -0.547574             1.000000  "
      ]
     },
     "execution_count": 19,
     "metadata": {},
     "output_type": "execute_result"
    }
   ],
   "source": [
    "df.corr()\n",
    "##none of the negatively correlated columns with the target have very high values.no need to delete any column."
   ]
  },
  {
   "cell_type": "markdown",
   "metadata": {},
   "source": [
    "# Removing outliers"
   ]
  },
  {
   "cell_type": "code",
   "execution_count": 20,
   "metadata": {},
   "outputs": [
    {
     "data": {
      "text/plain": [
       "(614, 21)"
      ]
     },
     "execution_count": 20,
     "metadata": {},
     "output_type": "execute_result"
    }
   ],
   "source": [
    "from scipy.stats import zscore\n",
    "z=abs(zscore(df))\n",
    "z.shape"
   ]
  },
  {
   "cell_type": "code",
   "execution_count": 21,
   "metadata": {},
   "outputs": [
    {
     "data": {
      "text/plain": [
       "(533, 21)"
      ]
     },
     "execution_count": 21,
     "metadata": {},
     "output_type": "execute_result"
    }
   ],
   "source": [
    "df=df[(z<3).all(axis=1)]\n",
    "df.shape"
   ]
  },
  {
   "cell_type": "markdown",
   "metadata": {},
   "source": [
    "# Separating target and independent variables"
   ]
  },
  {
   "cell_type": "code",
   "execution_count": 22,
   "metadata": {},
   "outputs": [],
   "source": [
    "y=df['Loan_Status']\n",
    "X=df.drop(['Loan_Status'],axis=1)"
   ]
  },
  {
   "cell_type": "markdown",
   "metadata": {},
   "source": [
    "# Applying Power transformation to remove skewness"
   ]
  },
  {
   "cell_type": "code",
   "execution_count": 23,
   "metadata": {},
   "outputs": [],
   "source": [
    "from sklearn.preprocessing import PowerTransformer\n",
    "pt=PowerTransformer(method='yeo-johnson') \n",
    "X_power=pt.fit_transform(X)\n",
    "df=pd.DataFrame(X_power,columns=X.columns)"
   ]
  },
  {
   "cell_type": "code",
   "execution_count": 24,
   "metadata": {},
   "outputs": [
    {
     "data": {
      "text/plain": [
       "ApplicantIncome            0.030444\n",
       "CoapplicantIncome         -0.218174\n",
       "LoanAmount                 0.051538\n",
       "Loan_Amount_Term           0.752711\n",
       "Credit_History            -1.595095\n",
       "Gender_Female              1.527956\n",
       "Gender_Male               -1.527956\n",
       "Married_No                 0.550175\n",
       "Married_Yes               -0.550175\n",
       "Dependents_0              -0.618210\n",
       "Dependents_1               1.720230\n",
       "Dependents_2               1.686243\n",
       "Dependents_3+              0.000000\n",
       "Education_Graduate        -1.359116\n",
       "Education_Not Graduate     1.359116\n",
       "Self_Employed_No          -2.264475\n",
       "Self_Employed_Yes          2.264475\n",
       "Property_Area_Rural        0.923885\n",
       "Property_Area_Semiurban    0.525120\n",
       "Property_Area_Urban        0.697164\n",
       "dtype: float64"
      ]
     },
     "execution_count": 24,
     "metadata": {},
     "output_type": "execute_result"
    }
   ],
   "source": [
    "df.skew()"
   ]
  },
  {
   "cell_type": "code",
   "execution_count": 25,
   "metadata": {},
   "outputs": [
    {
     "data": {
      "text/html": [
       "<div>\n",
       "<style scoped>\n",
       "    .dataframe tbody tr th:only-of-type {\n",
       "        vertical-align: middle;\n",
       "    }\n",
       "\n",
       "    .dataframe tbody tr th {\n",
       "        vertical-align: top;\n",
       "    }\n",
       "\n",
       "    .dataframe thead th {\n",
       "        text-align: right;\n",
       "    }\n",
       "</style>\n",
       "<table border=\"1\" class=\"dataframe\">\n",
       "  <thead>\n",
       "    <tr style=\"text-align: right;\">\n",
       "      <th></th>\n",
       "      <th>ApplicantIncome</th>\n",
       "      <th>CoapplicantIncome</th>\n",
       "      <th>LoanAmount</th>\n",
       "      <th>Loan_Amount_Term</th>\n",
       "      <th>Credit_History</th>\n",
       "      <th>Gender_Female</th>\n",
       "      <th>Gender_Male</th>\n",
       "      <th>Married_No</th>\n",
       "      <th>Married_Yes</th>\n",
       "      <th>Dependents_0</th>\n",
       "      <th>Dependents_1</th>\n",
       "      <th>Dependents_2</th>\n",
       "      <th>Dependents_3+</th>\n",
       "      <th>Education_Graduate</th>\n",
       "      <th>Education_Not Graduate</th>\n",
       "      <th>Self_Employed_No</th>\n",
       "      <th>Self_Employed_Yes</th>\n",
       "      <th>Property_Area_Rural</th>\n",
       "      <th>Property_Area_Semiurban</th>\n",
       "      <th>Property_Area_Urban</th>\n",
       "    </tr>\n",
       "  </thead>\n",
       "  <tbody>\n",
       "    <tr>\n",
       "      <td>0</td>\n",
       "      <td>0.696805</td>\n",
       "      <td>-1.138223</td>\n",
       "      <td>0.334271</td>\n",
       "      <td>0.132534</td>\n",
       "      <td>0.514944</td>\n",
       "      <td>-0.495305</td>\n",
       "      <td>0.495305</td>\n",
       "      <td>1.311254</td>\n",
       "      <td>-1.311254</td>\n",
       "      <td>0.738192</td>\n",
       "      <td>-0.459743</td>\n",
       "      <td>-0.46572</td>\n",
       "      <td>0.0</td>\n",
       "      <td>0.530330</td>\n",
       "      <td>-0.530330</td>\n",
       "      <td>0.379179</td>\n",
       "      <td>-0.379179</td>\n",
       "      <td>-0.640354</td>\n",
       "      <td>-0.771886</td>\n",
       "      <td>1.406291</td>\n",
       "    </tr>\n",
       "    <tr>\n",
       "      <td>1</td>\n",
       "      <td>0.253190</td>\n",
       "      <td>0.723254</td>\n",
       "      <td>-0.001892</td>\n",
       "      <td>0.132534</td>\n",
       "      <td>0.514944</td>\n",
       "      <td>-0.495305</td>\n",
       "      <td>0.495305</td>\n",
       "      <td>-0.762629</td>\n",
       "      <td>0.762629</td>\n",
       "      <td>-1.354661</td>\n",
       "      <td>2.175128</td>\n",
       "      <td>-0.46572</td>\n",
       "      <td>0.0</td>\n",
       "      <td>0.530330</td>\n",
       "      <td>-0.530330</td>\n",
       "      <td>0.379179</td>\n",
       "      <td>-0.379179</td>\n",
       "      <td>1.561637</td>\n",
       "      <td>-0.771886</td>\n",
       "      <td>-0.711091</td>\n",
       "    </tr>\n",
       "    <tr>\n",
       "      <td>2</td>\n",
       "      <td>-0.502156</td>\n",
       "      <td>-1.138223</td>\n",
       "      <td>-1.430766</td>\n",
       "      <td>0.132534</td>\n",
       "      <td>0.514944</td>\n",
       "      <td>-0.495305</td>\n",
       "      <td>0.495305</td>\n",
       "      <td>-0.762629</td>\n",
       "      <td>0.762629</td>\n",
       "      <td>0.738192</td>\n",
       "      <td>-0.459743</td>\n",
       "      <td>-0.46572</td>\n",
       "      <td>0.0</td>\n",
       "      <td>0.530330</td>\n",
       "      <td>-0.530330</td>\n",
       "      <td>-2.637276</td>\n",
       "      <td>2.637276</td>\n",
       "      <td>-0.640354</td>\n",
       "      <td>-0.771886</td>\n",
       "      <td>1.406291</td>\n",
       "    </tr>\n",
       "    <tr>\n",
       "      <td>3</td>\n",
       "      <td>-0.764360</td>\n",
       "      <td>0.880271</td>\n",
       "      <td>-0.157373</td>\n",
       "      <td>0.132534</td>\n",
       "      <td>0.514944</td>\n",
       "      <td>-0.495305</td>\n",
       "      <td>0.495305</td>\n",
       "      <td>-0.762629</td>\n",
       "      <td>0.762629</td>\n",
       "      <td>0.738192</td>\n",
       "      <td>-0.459743</td>\n",
       "      <td>-0.46572</td>\n",
       "      <td>0.0</td>\n",
       "      <td>-1.885618</td>\n",
       "      <td>1.885618</td>\n",
       "      <td>0.379179</td>\n",
       "      <td>-0.379179</td>\n",
       "      <td>-0.640354</td>\n",
       "      <td>-0.771886</td>\n",
       "      <td>1.406291</td>\n",
       "    </tr>\n",
       "    <tr>\n",
       "      <td>4</td>\n",
       "      <td>0.743538</td>\n",
       "      <td>-1.138223</td>\n",
       "      <td>0.238336</td>\n",
       "      <td>0.132534</td>\n",
       "      <td>0.514944</td>\n",
       "      <td>-0.495305</td>\n",
       "      <td>0.495305</td>\n",
       "      <td>1.311254</td>\n",
       "      <td>-1.311254</td>\n",
       "      <td>0.738192</td>\n",
       "      <td>-0.459743</td>\n",
       "      <td>-0.46572</td>\n",
       "      <td>0.0</td>\n",
       "      <td>0.530330</td>\n",
       "      <td>-0.530330</td>\n",
       "      <td>0.379179</td>\n",
       "      <td>-0.379179</td>\n",
       "      <td>-0.640354</td>\n",
       "      <td>-0.771886</td>\n",
       "      <td>1.406291</td>\n",
       "    </tr>\n",
       "  </tbody>\n",
       "</table>\n",
       "</div>"
      ],
      "text/plain": [
       "   ApplicantIncome  CoapplicantIncome  LoanAmount  Loan_Amount_Term  \\\n",
       "0         0.696805          -1.138223    0.334271          0.132534   \n",
       "1         0.253190           0.723254   -0.001892          0.132534   \n",
       "2        -0.502156          -1.138223   -1.430766          0.132534   \n",
       "3        -0.764360           0.880271   -0.157373          0.132534   \n",
       "4         0.743538          -1.138223    0.238336          0.132534   \n",
       "\n",
       "   Credit_History  Gender_Female  Gender_Male  Married_No  Married_Yes  \\\n",
       "0        0.514944      -0.495305     0.495305    1.311254    -1.311254   \n",
       "1        0.514944      -0.495305     0.495305   -0.762629     0.762629   \n",
       "2        0.514944      -0.495305     0.495305   -0.762629     0.762629   \n",
       "3        0.514944      -0.495305     0.495305   -0.762629     0.762629   \n",
       "4        0.514944      -0.495305     0.495305    1.311254    -1.311254   \n",
       "\n",
       "   Dependents_0  Dependents_1  Dependents_2  Dependents_3+  \\\n",
       "0      0.738192     -0.459743      -0.46572            0.0   \n",
       "1     -1.354661      2.175128      -0.46572            0.0   \n",
       "2      0.738192     -0.459743      -0.46572            0.0   \n",
       "3      0.738192     -0.459743      -0.46572            0.0   \n",
       "4      0.738192     -0.459743      -0.46572            0.0   \n",
       "\n",
       "   Education_Graduate  Education_Not Graduate  Self_Employed_No  \\\n",
       "0            0.530330               -0.530330          0.379179   \n",
       "1            0.530330               -0.530330          0.379179   \n",
       "2            0.530330               -0.530330         -2.637276   \n",
       "3           -1.885618                1.885618          0.379179   \n",
       "4            0.530330               -0.530330          0.379179   \n",
       "\n",
       "   Self_Employed_Yes  Property_Area_Rural  Property_Area_Semiurban  \\\n",
       "0          -0.379179            -0.640354                -0.771886   \n",
       "1          -0.379179             1.561637                -0.771886   \n",
       "2           2.637276            -0.640354                -0.771886   \n",
       "3          -0.379179            -0.640354                -0.771886   \n",
       "4          -0.379179            -0.640354                -0.771886   \n",
       "\n",
       "   Property_Area_Urban  \n",
       "0             1.406291  \n",
       "1            -0.711091  \n",
       "2             1.406291  \n",
       "3             1.406291  \n",
       "4             1.406291  "
      ]
     },
     "execution_count": 25,
     "metadata": {},
     "output_type": "execute_result"
    }
   ],
   "source": [
    "df.head()"
   ]
  },
  {
   "cell_type": "markdown",
   "metadata": {},
   "source": [
    "# Scaling the Data"
   ]
  },
  {
   "cell_type": "code",
   "execution_count": 26,
   "metadata": {},
   "outputs": [],
   "source": [
    "#Applying Standard scalar to independent variable only\n",
    "from sklearn.preprocessing import StandardScaler\n",
    "ss=StandardScaler()\n",
    "X_scaled=ss.fit_transform(df)\n",
    "x=pd.DataFrame(data=X_scaled,columns=df.columns)\n"
   ]
  },
  {
   "cell_type": "code",
   "execution_count": 27,
   "metadata": {},
   "outputs": [
    {
     "data": {
      "text/html": [
       "<div>\n",
       "<style scoped>\n",
       "    .dataframe tbody tr th:only-of-type {\n",
       "        vertical-align: middle;\n",
       "    }\n",
       "\n",
       "    .dataframe tbody tr th {\n",
       "        vertical-align: top;\n",
       "    }\n",
       "\n",
       "    .dataframe thead th {\n",
       "        text-align: right;\n",
       "    }\n",
       "</style>\n",
       "<table border=\"1\" class=\"dataframe\">\n",
       "  <thead>\n",
       "    <tr style=\"text-align: right;\">\n",
       "      <th></th>\n",
       "      <th>ApplicantIncome</th>\n",
       "      <th>CoapplicantIncome</th>\n",
       "      <th>LoanAmount</th>\n",
       "      <th>Loan_Amount_Term</th>\n",
       "      <th>Credit_History</th>\n",
       "      <th>Gender_Female</th>\n",
       "      <th>Gender_Male</th>\n",
       "      <th>Married_No</th>\n",
       "      <th>Married_Yes</th>\n",
       "      <th>Dependents_0</th>\n",
       "      <th>Dependents_1</th>\n",
       "      <th>Dependents_2</th>\n",
       "      <th>Dependents_3+</th>\n",
       "      <th>Education_Graduate</th>\n",
       "      <th>Education_Not Graduate</th>\n",
       "      <th>Self_Employed_No</th>\n",
       "      <th>Self_Employed_Yes</th>\n",
       "      <th>Property_Area_Rural</th>\n",
       "      <th>Property_Area_Semiurban</th>\n",
       "      <th>Property_Area_Urban</th>\n",
       "    </tr>\n",
       "  </thead>\n",
       "  <tbody>\n",
       "    <tr>\n",
       "      <td>0</td>\n",
       "      <td>0.696805</td>\n",
       "      <td>-1.138223</td>\n",
       "      <td>0.334271</td>\n",
       "      <td>0.132534</td>\n",
       "      <td>0.514944</td>\n",
       "      <td>-0.495305</td>\n",
       "      <td>0.495305</td>\n",
       "      <td>1.311254</td>\n",
       "      <td>-1.311254</td>\n",
       "      <td>0.738192</td>\n",
       "      <td>-0.459743</td>\n",
       "      <td>-0.46572</td>\n",
       "      <td>0.0</td>\n",
       "      <td>0.530330</td>\n",
       "      <td>-0.530330</td>\n",
       "      <td>0.379179</td>\n",
       "      <td>-0.379179</td>\n",
       "      <td>-0.640354</td>\n",
       "      <td>-0.771886</td>\n",
       "      <td>1.406291</td>\n",
       "    </tr>\n",
       "    <tr>\n",
       "      <td>1</td>\n",
       "      <td>0.253190</td>\n",
       "      <td>0.723254</td>\n",
       "      <td>-0.001892</td>\n",
       "      <td>0.132534</td>\n",
       "      <td>0.514944</td>\n",
       "      <td>-0.495305</td>\n",
       "      <td>0.495305</td>\n",
       "      <td>-0.762629</td>\n",
       "      <td>0.762629</td>\n",
       "      <td>-1.354661</td>\n",
       "      <td>2.175128</td>\n",
       "      <td>-0.46572</td>\n",
       "      <td>0.0</td>\n",
       "      <td>0.530330</td>\n",
       "      <td>-0.530330</td>\n",
       "      <td>0.379179</td>\n",
       "      <td>-0.379179</td>\n",
       "      <td>1.561637</td>\n",
       "      <td>-0.771886</td>\n",
       "      <td>-0.711091</td>\n",
       "    </tr>\n",
       "    <tr>\n",
       "      <td>2</td>\n",
       "      <td>-0.502156</td>\n",
       "      <td>-1.138223</td>\n",
       "      <td>-1.430766</td>\n",
       "      <td>0.132534</td>\n",
       "      <td>0.514944</td>\n",
       "      <td>-0.495305</td>\n",
       "      <td>0.495305</td>\n",
       "      <td>-0.762629</td>\n",
       "      <td>0.762629</td>\n",
       "      <td>0.738192</td>\n",
       "      <td>-0.459743</td>\n",
       "      <td>-0.46572</td>\n",
       "      <td>0.0</td>\n",
       "      <td>0.530330</td>\n",
       "      <td>-0.530330</td>\n",
       "      <td>-2.637276</td>\n",
       "      <td>2.637276</td>\n",
       "      <td>-0.640354</td>\n",
       "      <td>-0.771886</td>\n",
       "      <td>1.406291</td>\n",
       "    </tr>\n",
       "    <tr>\n",
       "      <td>3</td>\n",
       "      <td>-0.764360</td>\n",
       "      <td>0.880271</td>\n",
       "      <td>-0.157373</td>\n",
       "      <td>0.132534</td>\n",
       "      <td>0.514944</td>\n",
       "      <td>-0.495305</td>\n",
       "      <td>0.495305</td>\n",
       "      <td>-0.762629</td>\n",
       "      <td>0.762629</td>\n",
       "      <td>0.738192</td>\n",
       "      <td>-0.459743</td>\n",
       "      <td>-0.46572</td>\n",
       "      <td>0.0</td>\n",
       "      <td>-1.885618</td>\n",
       "      <td>1.885618</td>\n",
       "      <td>0.379179</td>\n",
       "      <td>-0.379179</td>\n",
       "      <td>-0.640354</td>\n",
       "      <td>-0.771886</td>\n",
       "      <td>1.406291</td>\n",
       "    </tr>\n",
       "    <tr>\n",
       "      <td>4</td>\n",
       "      <td>0.743538</td>\n",
       "      <td>-1.138223</td>\n",
       "      <td>0.238336</td>\n",
       "      <td>0.132534</td>\n",
       "      <td>0.514944</td>\n",
       "      <td>-0.495305</td>\n",
       "      <td>0.495305</td>\n",
       "      <td>1.311254</td>\n",
       "      <td>-1.311254</td>\n",
       "      <td>0.738192</td>\n",
       "      <td>-0.459743</td>\n",
       "      <td>-0.46572</td>\n",
       "      <td>0.0</td>\n",
       "      <td>0.530330</td>\n",
       "      <td>-0.530330</td>\n",
       "      <td>0.379179</td>\n",
       "      <td>-0.379179</td>\n",
       "      <td>-0.640354</td>\n",
       "      <td>-0.771886</td>\n",
       "      <td>1.406291</td>\n",
       "    </tr>\n",
       "  </tbody>\n",
       "</table>\n",
       "</div>"
      ],
      "text/plain": [
       "   ApplicantIncome  CoapplicantIncome  LoanAmount  Loan_Amount_Term  \\\n",
       "0         0.696805          -1.138223    0.334271          0.132534   \n",
       "1         0.253190           0.723254   -0.001892          0.132534   \n",
       "2        -0.502156          -1.138223   -1.430766          0.132534   \n",
       "3        -0.764360           0.880271   -0.157373          0.132534   \n",
       "4         0.743538          -1.138223    0.238336          0.132534   \n",
       "\n",
       "   Credit_History  Gender_Female  Gender_Male  Married_No  Married_Yes  \\\n",
       "0        0.514944      -0.495305     0.495305    1.311254    -1.311254   \n",
       "1        0.514944      -0.495305     0.495305   -0.762629     0.762629   \n",
       "2        0.514944      -0.495305     0.495305   -0.762629     0.762629   \n",
       "3        0.514944      -0.495305     0.495305   -0.762629     0.762629   \n",
       "4        0.514944      -0.495305     0.495305    1.311254    -1.311254   \n",
       "\n",
       "   Dependents_0  Dependents_1  Dependents_2  Dependents_3+  \\\n",
       "0      0.738192     -0.459743      -0.46572            0.0   \n",
       "1     -1.354661      2.175128      -0.46572            0.0   \n",
       "2      0.738192     -0.459743      -0.46572            0.0   \n",
       "3      0.738192     -0.459743      -0.46572            0.0   \n",
       "4      0.738192     -0.459743      -0.46572            0.0   \n",
       "\n",
       "   Education_Graduate  Education_Not Graduate  Self_Employed_No  \\\n",
       "0            0.530330               -0.530330          0.379179   \n",
       "1            0.530330               -0.530330          0.379179   \n",
       "2            0.530330               -0.530330         -2.637276   \n",
       "3           -1.885618                1.885618          0.379179   \n",
       "4            0.530330               -0.530330          0.379179   \n",
       "\n",
       "   Self_Employed_Yes  Property_Area_Rural  Property_Area_Semiurban  \\\n",
       "0          -0.379179            -0.640354                -0.771886   \n",
       "1          -0.379179             1.561637                -0.771886   \n",
       "2           2.637276            -0.640354                -0.771886   \n",
       "3          -0.379179            -0.640354                -0.771886   \n",
       "4          -0.379179            -0.640354                -0.771886   \n",
       "\n",
       "   Property_Area_Urban  \n",
       "0             1.406291  \n",
       "1            -0.711091  \n",
       "2             1.406291  \n",
       "3             1.406291  \n",
       "4             1.406291  "
      ]
     },
     "execution_count": 27,
     "metadata": {},
     "output_type": "execute_result"
    }
   ],
   "source": [
    "x.head()"
   ]
  },
  {
   "cell_type": "markdown",
   "metadata": {},
   "source": [
    "# Model Building"
   ]
  },
  {
   "cell_type": "code",
   "execution_count": 28,
   "metadata": {},
   "outputs": [],
   "source": [
    "from sklearn.model_selection import train_test_split,cross_val_score\n",
    "x_train,x_test,y_train,y_test=train_test_split(x,y,random_state=42,stratify=y)"
   ]
  },
  {
   "cell_type": "code",
   "execution_count": 29,
   "metadata": {},
   "outputs": [],
   "source": [
    "from sklearn.neighbors import KNeighborsClassifier\n",
    "from sklearn.svm import SVC\n",
    "from sklearn.linear_model import LogisticRegression\n",
    "from sklearn.tree import DecisionTreeClassifier\n",
    "from sklearn.naive_bayes import GaussianNB\n",
    "from sklearn.ensemble import RandomForestClassifier\n",
    "from xgboost import XGBClassifier\n",
    "from sklearn.ensemble import GradientBoostingClassifier\n",
    "from sklearn.ensemble import AdaBoostClassifier"
   ]
  },
  {
   "cell_type": "code",
   "execution_count": 30,
   "metadata": {},
   "outputs": [],
   "source": [
    "knn=KNeighborsClassifier()\n",
    "svc=SVC()\n",
    "lr=LogisticRegression()\n",
    "dt=DecisionTreeClassifier()\n",
    "gnb=GaussianNB()\n",
    "rfc=RandomForestClassifier()\n",
    "xgb=XGBClassifier()\n",
    "gbc=GradientBoostingClassifier()\n",
    "ada=AdaBoostClassifier()"
   ]
  },
  {
   "cell_type": "code",
   "execution_count": 31,
   "metadata": {},
   "outputs": [],
   "source": [
    "models=[]\n",
    "models.append(('KNeighborsClassifier',knn))\n",
    "models.append(('SVC',svc))\n",
    "models.append(('LogisticRegression',lr))\n",
    "models.append(('DecisionTreeClassifier',dt))\n",
    "models.append(('GaussianNB',gnb))\n",
    "models.append(('RandomForestClassifier',rfc))\n",
    "models.append(('XGBClassifier',xgb))\n",
    "models.append(('GradientBoostingClassifier',gbc))\n",
    "models.append(('AdaBoostClassifier',ada))"
   ]
  },
  {
   "cell_type": "code",
   "execution_count": 32,
   "metadata": {},
   "outputs": [],
   "source": [
    "from sklearn.metrics import classification_report,confusion_matrix,accuracy_score,roc_curve,auc,recall_score"
   ]
  },
  {
   "cell_type": "code",
   "execution_count": 38,
   "metadata": {},
   "outputs": [
    {
     "name": "stdout",
     "output_type": "stream",
     "text": [
      "***************** KNeighborsClassifier *******************\n",
      "\n",
      "\n",
      "KNeighborsClassifier(algorithm='auto', leaf_size=30, metric='minkowski',\n",
      "                     metric_params=None, n_jobs=None, n_neighbors=5, p=2,\n",
      "                     weights='uniform')\n",
      "\n",
      "\n",
      "Accuracy_score  - 0.7388059701492538\n",
      "\n",
      "\n",
      "cross_val_score  - 0.7093076385529216\n",
      "\n",
      "\n",
      "roc_auc_score  - 0.614083398898505\n",
      "\n",
      "\n",
      "Recall_score  - 0.9354838709677419\n",
      "\n",
      "\n",
      "classification report\n",
      "               precision    recall  f1-score   support\n",
      "\n",
      "           0       0.67      0.29      0.41        41\n",
      "           1       0.75      0.94      0.83        93\n",
      "\n",
      "    accuracy                           0.74       134\n",
      "   macro avg       0.71      0.61      0.62       134\n",
      "weighted avg       0.72      0.74      0.70       134\n",
      "\n",
      "\n",
      "\n",
      "[[12 29]\n",
      " [ 6 87]]\n",
      "\n",
      "\n",
      "AxesSubplot(0.125,0.808774;0.62x0.0712264)\n",
      "\n",
      "\n",
      "\n",
      "***************** SVC *******************\n",
      "\n",
      "\n",
      "SVC(C=1.0, cache_size=200, class_weight=None, coef0=0.0,\n",
      "    decision_function_shape='ovr', degree=3, gamma='auto_deprecated',\n",
      "    kernel='rbf', max_iter=-1, probability=False, random_state=None,\n",
      "    shrinking=True, tol=0.001, verbose=False)\n",
      "\n",
      "\n",
      "Accuracy_score  - 0.835820895522388\n",
      "\n",
      "\n",
      "cross_val_score  - 0.8070136537117669\n",
      "\n",
      "\n",
      "roc_auc_score  - 0.7453448728035668\n",
      "\n",
      "\n",
      "Recall_score  - 0.978494623655914\n",
      "\n",
      "\n",
      "classification report\n",
      "               precision    recall  f1-score   support\n",
      "\n",
      "           0       0.91      0.51      0.66        41\n",
      "           1       0.82      0.98      0.89        93\n",
      "\n",
      "    accuracy                           0.84       134\n",
      "   macro avg       0.87      0.75      0.77       134\n",
      "weighted avg       0.85      0.84      0.82       134\n",
      "\n",
      "\n",
      "\n",
      "[[21 20]\n",
      " [ 2 91]]\n",
      "\n",
      "\n",
      "AxesSubplot(0.125,0.808774;0.62x0.0712264)\n",
      "\n",
      "\n",
      "\n",
      "***************** LogisticRegression *******************\n",
      "\n",
      "\n",
      "LogisticRegression(C=1.0, class_weight=None, dual=False, fit_intercept=True,\n",
      "                   intercept_scaling=1, l1_ratio=None, max_iter=100,\n",
      "                   multi_class='warn', n_jobs=None, penalty='l2',\n",
      "                   random_state=None, solver='warn', tol=0.0001, verbose=0,\n",
      "                   warm_start=False)\n",
      "\n",
      "\n",
      "Accuracy_score  - 0.8432835820895522\n",
      "\n",
      "\n",
      "cross_val_score  - 0.8032400688061065\n",
      "\n",
      "\n",
      "roc_auc_score  - 0.7643587726199843\n",
      "\n",
      "\n",
      "Recall_score  - 0.967741935483871\n",
      "\n",
      "\n",
      "classification report\n",
      "               precision    recall  f1-score   support\n",
      "\n",
      "           0       0.88      0.56      0.69        41\n",
      "           1       0.83      0.97      0.90        93\n",
      "\n",
      "    accuracy                           0.84       134\n",
      "   macro avg       0.86      0.76      0.79       134\n",
      "weighted avg       0.85      0.84      0.83       134\n",
      "\n",
      "\n",
      "\n",
      "[[23 18]\n",
      " [ 3 90]]\n",
      "\n",
      "\n",
      "AxesSubplot(0.125,0.808774;0.62x0.0712264)\n",
      "\n",
      "\n",
      "\n",
      "***************** DecisionTreeClassifier *******************\n",
      "\n",
      "\n",
      "DecisionTreeClassifier(class_weight=None, criterion='gini', max_depth=None,\n",
      "                       max_features=None, max_leaf_nodes=None,\n",
      "                       min_impurity_decrease=0.0, min_impurity_split=None,\n",
      "                       min_samples_leaf=1, min_samples_split=2,\n",
      "                       min_weight_fraction_leaf=0.0, presort=False,\n",
      "                       random_state=None, splitter='best')\n",
      "\n",
      "\n",
      "Accuracy_score  - 0.7761194029850746\n",
      "\n",
      "\n",
      "cross_val_score  - 0.7111998064828253\n",
      "\n",
      "\n",
      "roc_auc_score  - 0.7637031209021767\n",
      "\n",
      "\n",
      "Recall_score  - 0.7956989247311828\n",
      "\n",
      "\n",
      "classification report\n",
      "               precision    recall  f1-score   support\n",
      "\n",
      "           0       0.61      0.73      0.67        41\n",
      "           1       0.87      0.80      0.83        93\n",
      "\n",
      "    accuracy                           0.78       134\n",
      "   macro avg       0.74      0.76      0.75       134\n",
      "weighted avg       0.79      0.78      0.78       134\n",
      "\n",
      "\n",
      "\n",
      "[[30 11]\n",
      " [19 74]]\n",
      "\n",
      "\n",
      "AxesSubplot(0.125,0.808774;0.62x0.0712264)\n",
      "\n",
      "\n",
      "\n",
      "***************** GaussianNB *******************\n",
      "\n",
      "\n",
      "GaussianNB(priors=None, var_smoothing=1e-09)\n",
      "\n",
      "\n",
      "Accuracy_score  - 0.8208955223880597\n",
      "\n",
      "\n",
      "cross_val_score  - 0.7580968123420954\n",
      "\n",
      "\n",
      "roc_auc_score  - 0.7550485182271178\n",
      "\n",
      "\n",
      "Recall_score  - 0.9247311827956989\n",
      "\n",
      "\n",
      "classification report\n",
      "               precision    recall  f1-score   support\n",
      "\n",
      "           0       0.77      0.59      0.67        41\n",
      "           1       0.83      0.92      0.88        93\n",
      "\n",
      "    accuracy                           0.82       134\n",
      "   macro avg       0.80      0.76      0.77       134\n",
      "weighted avg       0.82      0.82      0.81       134\n",
      "\n",
      "\n",
      "\n",
      "[[24 17]\n",
      " [ 7 86]]\n",
      "\n",
      "\n",
      "AxesSubplot(0.125,0.808774;0.62x0.0712264)\n",
      "\n",
      "\n",
      "\n",
      "***************** RandomForestClassifier *******************\n",
      "\n",
      "\n",
      "RandomForestClassifier(bootstrap=True, class_weight=None, criterion='gini',\n",
      "                       max_depth=None, max_features='auto', max_leaf_nodes=None,\n",
      "                       min_impurity_decrease=0.0, min_impurity_split=None,\n",
      "                       min_samples_leaf=1, min_samples_split=2,\n",
      "                       min_weight_fraction_leaf=0.0, n_estimators=10,\n",
      "                       n_jobs=None, oob_score=False, random_state=None,\n",
      "                       verbose=0, warm_start=False)\n",
      "\n",
      "\n",
      "Accuracy_score  - 0.8059701492537313\n",
      "\n",
      "\n",
      "cross_val_score  - 0.7617212277589636\n",
      "\n",
      "\n",
      "roc_auc_score  - 0.7715709415158667\n",
      "\n",
      "\n",
      "Recall_score  - 0.8602150537634409\n",
      "\n",
      "\n",
      "classification report\n",
      "               precision    recall  f1-score   support\n",
      "\n",
      "           0       0.68      0.68      0.68        41\n",
      "           1       0.86      0.86      0.86        93\n",
      "\n",
      "    accuracy                           0.81       134\n",
      "   macro avg       0.77      0.77      0.77       134\n",
      "weighted avg       0.81      0.81      0.81       134\n",
      "\n",
      "\n",
      "\n",
      "[[28 13]\n",
      " [13 80]]\n",
      "\n",
      "\n",
      "AxesSubplot(0.125,0.808774;0.62x0.0712264)\n",
      "\n",
      "\n",
      "\n",
      "***************** XGBClassifier *******************\n",
      "\n",
      "\n",
      "XGBClassifier(base_score=0.5, booster=None, colsample_bylevel=1,\n",
      "              colsample_bynode=1, colsample_bytree=1, gamma=0, gpu_id=-1,\n",
      "              importance_type='gain', interaction_constraints=None,\n",
      "              learning_rate=0.300000012, max_delta_step=0, max_depth=6,\n",
      "              min_child_weight=1, missing=nan, monotone_constraints=None,\n",
      "              n_estimators=100, n_jobs=0, num_parallel_tree=1,\n",
      "              objective='binary:logistic', random_state=0, reg_alpha=0,\n",
      "              reg_lambda=1, scale_pos_weight=1, subsample=1, tree_method=None,\n",
      "              validate_parameters=False, verbosity=None)\n",
      "\n",
      "\n",
      "Accuracy_score  - 0.8134328358208955\n",
      "\n",
      "\n",
      "cross_val_score  - 0.7657098317475676\n",
      "\n",
      "\n",
      "roc_auc_score  - 0.7564909520062943\n",
      "\n",
      "\n",
      "Recall_score  - 0.9032258064516129\n",
      "\n",
      "\n",
      "classification report\n",
      "               precision    recall  f1-score   support\n",
      "\n",
      "           0       0.74      0.61      0.67        41\n",
      "           1       0.84      0.90      0.87        93\n",
      "\n",
      "    accuracy                           0.81       134\n",
      "   macro avg       0.79      0.76      0.77       134\n",
      "weighted avg       0.81      0.81      0.81       134\n",
      "\n",
      "\n",
      "\n",
      "[[25 16]\n",
      " [ 9 84]]\n",
      "\n",
      "\n",
      "AxesSubplot(0.125,0.808774;0.62x0.0712264)\n",
      "\n",
      "\n",
      "\n",
      "***************** GradientBoostingClassifier *******************\n",
      "\n",
      "\n",
      "GradientBoostingClassifier(criterion='friedman_mse', init=None,\n",
      "                           learning_rate=0.1, loss='deviance', max_depth=3,\n",
      "                           max_features=None, max_leaf_nodes=None,\n",
      "                           min_impurity_decrease=0.0, min_impurity_split=None,\n",
      "                           min_samples_leaf=1, min_samples_split=2,\n",
      "                           min_weight_fraction_leaf=0.0, n_estimators=100,\n",
      "                           n_iter_no_change=None, presort='auto',\n",
      "                           random_state=None, subsample=1.0, tol=0.0001,\n",
      "                           validation_fraction=0.1, verbose=0,\n",
      "                           warm_start=False)\n",
      "\n",
      "\n",
      "Accuracy_score  - 0.8134328358208955\n",
      "\n",
      "\n",
      "cross_val_score  - 0.7884265978605601\n",
      "\n",
      "\n",
      "roc_auc_score  - 0.7292158405455023\n",
      "\n",
      "\n",
      "Recall_score  - 0.946236559139785\n",
      "\n",
      "\n",
      "classification report\n",
      "               precision    recall  f1-score   support\n",
      "\n",
      "           0       0.81      0.51      0.63        41\n",
      "           1       0.81      0.95      0.88        93\n",
      "\n",
      "    accuracy                           0.81       134\n",
      "   macro avg       0.81      0.73      0.75       134\n",
      "weighted avg       0.81      0.81      0.80       134\n",
      "\n",
      "\n",
      "\n",
      "[[21 20]\n",
      " [ 5 88]]\n",
      "\n",
      "\n",
      "AxesSubplot(0.125,0.808774;0.62x0.0712264)\n",
      "\n",
      "\n",
      "\n",
      "***************** AdaBoostClassifier *******************\n",
      "\n",
      "\n",
      "AdaBoostClassifier(algorithm='SAMME.R', base_estimator=None, learning_rate=1.0,\n",
      "                   n_estimators=50, random_state=None)\n",
      "\n",
      "\n",
      "Accuracy_score  - 0.7985074626865671\n",
      "\n",
      "\n"
     ]
    },
    {
     "name": "stdout",
     "output_type": "stream",
     "text": [
      "cross_val_score  - 0.7939808095468474\n",
      "\n",
      "\n",
      "roc_auc_score  - 0.7184631523734593\n",
      "\n",
      "\n",
      "Recall_score  - 0.9247311827956989\n",
      "\n",
      "\n",
      "classification report\n",
      "               precision    recall  f1-score   support\n",
      "\n",
      "           0       0.75      0.51      0.61        41\n",
      "           1       0.81      0.92      0.86        93\n",
      "\n",
      "    accuracy                           0.80       134\n",
      "   macro avg       0.78      0.72      0.74       134\n",
      "weighted avg       0.79      0.80      0.79       134\n",
      "\n",
      "\n",
      "\n",
      "[[21 20]\n",
      " [ 7 86]]\n",
      "\n",
      "\n",
      "AxesSubplot(0.125,0.808774;0.62x0.0712264)\n",
      "\n",
      "\n",
      "\n"
     ]
    },
    {
     "data": {
      "image/png": "[encoded data removed]",
      "text/plain": [
       "<Figure size 720x2880 with 3 Axes>"
      ]
     },
     "metadata": {
      "needs_background": "light"
     },
     "output_type": "display_data"
    },
    {
     "data": {
      "image/png": "[encoded data removed]",
      "text/plain": [
       "<Figure size 720x2880 with 3 Axes>"
      ]
     },
     "metadata": {
      "needs_background": "light"
     },
     "output_type": "display_data"
    },
    {
     "data": {
      "image/png": "[encoded data removed]",
      "text/plain": [
       "<Figure size 720x2880 with 3 Axes>"
      ]
     },
     "metadata": {
      "needs_background": "light"
     },
     "output_type": "display_data"
    },
    {
     "data": {
      "image/png": "[encoded data removed]",
      "text/plain": [
       "<Figure size 720x2880 with 3 Axes>"
      ]
     },
     "metadata": {
      "needs_background": "light"
     },
     "output_type": "display_data"
    },
    {
     "data": {
      "image/png": "[encoded data removed]",
      "text/plain": [
       "<Figure size 720x2880 with 3 Axes>"
      ]
     },
     "metadata": {
      "needs_background": "light"
     },
     "output_type": "display_data"
    },
    {
     "data": {
      "image/png": "[encoded data removed]",
      "text/plain": [
       "<Figure size 720x2880 with 3 Axes>"
      ]
     },
     "metadata": {
      "needs_background": "light"
     },
     "output_type": "display_data"
    },
    {
     "data": {
      "image/png": "[encoded data removed]",
      "text/plain": [
       "<Figure size 720x2880 with 3 Axes>"
      ]
     },
     "metadata": {
      "needs_background": "light"
     },
     "output_type": "display_data"
    },
    {
     "data": {
      "image/png": "[encoded data removed]",
      "text/plain": [
       "<Figure size 720x2880 with 3 Axes>"
      ]
     },
     "metadata": {
      "needs_background": "light"
     },
     "output_type": "display_data"
    },
    {
     "data": {
      "image/png": "[encoded data removed]",
      "text/plain": [
       "<Figure size 720x2880 with 3 Axes>"
      ]
     },
     "metadata": {
      "needs_background": "light"
     },
     "output_type": "display_data"
    }
   ],
   "source": [
    "Model=[]\n",
    "score=[]\n",
    "cv=[]\n",
    "rocscore=[]\n",
    "recall=[]\n",
    "for name,model in models:\n",
    "    print('*****************',name,'*******************')\n",
    "    print('\\n')\n",
    "    Model.append(name)\n",
    "    model.fit(x_train,y_train)\n",
    "    print(model)\n",
    "    pre=model.predict(x_test)\n",
    "    print('\\n')\n",
    "    AS=accuracy_score(y_test,pre)\n",
    "    print('Accuracy_score  -',AS)\n",
    "    score.append(AS*100)\n",
    "    print('\\n')\n",
    "    sc=cross_val_score(model,x,y,cv=10,scoring='accuracy').mean()\n",
    "    print('cross_val_score  -',sc)\n",
    "    cv.append(sc*100)\n",
    "    print('\\n')\n",
    "    \n",
    "    fpr,tpr,threshold=roc_curve(y_test,pre)\n",
    "    roc_auc=auc(fpr,tpr)\n",
    "    print('roc_auc_score  -',roc_auc)\n",
    "    rocscore.append(roc_auc*100)\n",
    "    print('\\n')\n",
    "    \n",
    "    re=recall_score(y_test,pre)\n",
    "    print('Recall_score  -',re)\n",
    "    recall.append(re*100)\n",
    "    print('\\n')\n",
    "    \n",
    "    print('classification report\\n',classification_report(y_test,pre))\n",
    "    print('\\n')\n",
    "    cm=confusion_matrix(y_test,pre)\n",
    "    print(cm)\n",
    "    print('\\n')\n",
    "    plt.figure(figsize=(10,40))\n",
    "    plt.subplot(911)\n",
    "    plt.title(name)\n",
    "    print(sns.heatmap(cm,annot=True))\n",
    "    plt.subplot(912)\n",
    "    plt.title(name)\n",
    "    plt.plot(fpr,tpr,label='Auc = ' +str(roc_auc))\n",
    "    plt.plot([0,1],[0,1],'r--')\n",
    "    plt.legend(loc='lower right')\n",
    "    plt.ylabel('True Positive Rate')\n",
    "    plt.xlabel('False Positive Rate')\n",
    "    print('\\n\\n')\n",
    "    "
   ]
  },
  {
   "cell_type": "code",
   "execution_count": 39,
   "metadata": {},
   "outputs": [
    {
     "data": {
      "text/html": [
       "<div>\n",
       "<style scoped>\n",
       "    .dataframe tbody tr th:only-of-type {\n",
       "        vertical-align: middle;\n",
       "    }\n",
       "\n",
       "    .dataframe tbody tr th {\n",
       "        vertical-align: top;\n",
       "    }\n",
       "\n",
       "    .dataframe thead th {\n",
       "        text-align: right;\n",
       "    }\n",
       "</style>\n",
       "<table border=\"1\" class=\"dataframe\">\n",
       "  <thead>\n",
       "    <tr style=\"text-align: right;\">\n",
       "      <th></th>\n",
       "      <th>Model</th>\n",
       "      <th>Accuracy_score</th>\n",
       "      <th>Cross_val_score</th>\n",
       "    </tr>\n",
       "  </thead>\n",
       "  <tbody>\n",
       "    <tr>\n",
       "      <td>0</td>\n",
       "      <td>KNeighborsClassifier</td>\n",
       "      <td>73.880597</td>\n",
       "      <td>70.930764</td>\n",
       "    </tr>\n",
       "    <tr>\n",
       "      <td>1</td>\n",
       "      <td>SVC</td>\n",
       "      <td>83.582090</td>\n",
       "      <td>80.701365</td>\n",
       "    </tr>\n",
       "    <tr>\n",
       "      <td>2</td>\n",
       "      <td>LogisticRegression</td>\n",
       "      <td>84.328358</td>\n",
       "      <td>80.324007</td>\n",
       "    </tr>\n",
       "    <tr>\n",
       "      <td>3</td>\n",
       "      <td>DecisionTreeClassifier</td>\n",
       "      <td>77.611940</td>\n",
       "      <td>71.119981</td>\n",
       "    </tr>\n",
       "    <tr>\n",
       "      <td>4</td>\n",
       "      <td>GaussianNB</td>\n",
       "      <td>82.089552</td>\n",
       "      <td>75.809681</td>\n",
       "    </tr>\n",
       "    <tr>\n",
       "      <td>5</td>\n",
       "      <td>RandomForestClassifier</td>\n",
       "      <td>80.597015</td>\n",
       "      <td>76.172123</td>\n",
       "    </tr>\n",
       "    <tr>\n",
       "      <td>6</td>\n",
       "      <td>XGBClassifier</td>\n",
       "      <td>81.343284</td>\n",
       "      <td>76.570983</td>\n",
       "    </tr>\n",
       "    <tr>\n",
       "      <td>7</td>\n",
       "      <td>GradientBoostingClassifier</td>\n",
       "      <td>81.343284</td>\n",
       "      <td>78.842660</td>\n",
       "    </tr>\n",
       "    <tr>\n",
       "      <td>8</td>\n",
       "      <td>AdaBoostClassifier</td>\n",
       "      <td>79.850746</td>\n",
       "      <td>79.398081</td>\n",
       "    </tr>\n",
       "  </tbody>\n",
       "</table>\n",
       "</div>"
      ],
      "text/plain": [
       "                        Model  Accuracy_score  Cross_val_score\n",
       "0        KNeighborsClassifier       73.880597        70.930764\n",
       "1                         SVC       83.582090        80.701365\n",
       "2          LogisticRegression       84.328358        80.324007\n",
       "3      DecisionTreeClassifier       77.611940        71.119981\n",
       "4                  GaussianNB       82.089552        75.809681\n",
       "5      RandomForestClassifier       80.597015        76.172123\n",
       "6               XGBClassifier       81.343284        76.570983\n",
       "7  GradientBoostingClassifier       81.343284        78.842660\n",
       "8          AdaBoostClassifier       79.850746        79.398081"
      ]
     },
     "execution_count": 39,
     "metadata": {},
     "output_type": "execute_result"
    }
   ],
   "source": [
    "result=pd.DataFrame({'Model':Model,'Accuracy_score':score,'Cross_val_score':cv})\n",
    "result"
   ]
  },
  {
   "cell_type": "code",
   "execution_count": 40,
   "metadata": {},
   "outputs": [],
   "source": [
    "#We can see from the table LogisticRegression is the best performing Algorithms.\n",
    "#but our target accuracy score is 90%\n",
    "#to improve the score we will apply gridsearchcv technique to the top the performing models."
   ]
  },
  {
   "cell_type": "code",
   "execution_count": 41,
   "metadata": {},
   "outputs": [],
   "source": [
    "#First lets calculate the random state of the models at which they perform the best.\n",
    "#Then we will select the top3 models and do gridsearchcv on them to attain our target score of 90%."
   ]
  },
  {
   "cell_type": "markdown",
   "metadata": {},
   "source": [
    "# Finding the best random_state "
   ]
  },
  {
   "cell_type": "code",
   "execution_count": 42,
   "metadata": {},
   "outputs": [],
   "source": [
    "from sklearn.model_selection import train_test_split\n",
    "from sklearn.metrics import roc_auc_score,recall_score\n",
    "from sklearn.linear_model import LogisticRegression\n",
    "def maxaccuracy_score(model,x,y):\n",
    "    max_accuracy=0\n",
    "    for r_state in range(42,101):\n",
    "        \n",
    "        x_train,x_test,y_train,y_test=train_test_split(x,y,random_state=r_state,stratify=y)\n",
    "        model.fit(x_train,y_train)\n",
    "        pred=model.predict(x_test)\n",
    "        score=accuracy_score(y_test,pred)\n",
    "        \n",
    "        if score>max_accuracy:\n",
    "            max_accuracy=score\n",
    "            final_r_state=r_state\n",
    "    print('max_accuracy_score is at random_state  ',final_r_state,'  which is  ',max_accuracy)\n",
    "    return final_r_state"
   ]
  },
  {
   "cell_type": "code",
   "execution_count": 43,
   "metadata": {},
   "outputs": [
    {
     "name": "stdout",
     "output_type": "stream",
     "text": [
      "max_accuracy_score is at random_state   76   which is   0.7761194029850746\n",
      "knn 76\n",
      "max_accuracy_score is at random_state   63   which is   0.8805970149253731\n",
      "svc 63\n",
      "max_accuracy_score is at random_state   63   which is   0.8656716417910447\n",
      "lr 63\n",
      "max_accuracy_score is at random_state   66   which is   0.8059701492537313\n",
      "dt 66\n",
      "max_accuracy_score is at random_state   42   which is   0.8208955223880597\n",
      "gnb 42\n",
      "max_accuracy_score is at random_state   63   which is   0.8507462686567164\n",
      "rfc 63\n",
      "max_accuracy_score is at random_state   46   which is   0.8432835820895522\n",
      "xgb 46\n",
      "max_accuracy_score is at random_state   63   which is   0.8731343283582089\n",
      "gbc 63\n",
      "max_accuracy_score is at random_state   63   which is   0.8955223880597015\n",
      "ada 63\n"
     ]
    }
   ],
   "source": [
    "print('knn',maxaccuracy_score(knn,x,y))\n",
    "print('svc',maxaccuracy_score(svc,x,y))\n",
    "print('lr',maxaccuracy_score(lr,x,y))\n",
    "print('dt',maxaccuracy_score(dt,x,y))\n",
    "print('gnb',maxaccuracy_score(gnb,x,y))\n",
    "print('rfc',maxaccuracy_score(rfc,x,y))\n",
    "print('xgb',maxaccuracy_score(xgb,x,y))\n",
    "print('gbc',maxaccuracy_score(gbc,x,y))\n",
    "print('ada',maxaccuracy_score(ada,x,y))"
   ]
  },
  {
   "cell_type": "code",
   "execution_count": 44,
   "metadata": {},
   "outputs": [],
   "source": [
    "#We can see AdaBoostClassifier is performing the best at random_state=42\n",
    " \n",
    "#selecting our top 4 models to be used for gridsearchcv\n",
    "\n",
    "#model-1-->AdaBoostClassifier(accuracy=89.55%) at random_state=63\n",
    "#model-2-->SVC(accuracy=88.05%) at random_state=63\n",
    "#model-3-->GradientBoostingClassifier(accuracy=87.31%) at random_state=63\n",
    "#model-4-->XGBoostClassifier(accuracy=84.32%) at random_state=46"
   ]
  },
  {
   "cell_type": "markdown",
   "metadata": {},
   "source": [
    "# GridSearchCV"
   ]
  },
  {
   "cell_type": "markdown",
   "metadata": {},
   "source": [
    "# model-1-->AdaBoostClassifier(accuracy=89.55%) at random_state=63"
   ]
  },
  {
   "cell_type": "code",
   "execution_count": 51,
   "metadata": {},
   "outputs": [],
   "source": [
    "ada=AdaBoostClassifier()\n",
    "x_train,x_test,y_train,y_test=train_test_split(x,y,random_state=63,stratify=y)"
   ]
  },
  {
   "cell_type": "code",
   "execution_count": 52,
   "metadata": {},
   "outputs": [
    {
     "data": {
      "text/plain": [
       "{'base_estimator': LogisticRegression(C=1.0, class_weight=None, dual=False, fit_intercept=True,\n",
       "                    intercept_scaling=1, l1_ratio=None, max_iter=100,\n",
       "                    multi_class='warn', n_jobs=None, penalty='l2',\n",
       "                    random_state=None, solver='warn', tol=0.0001, verbose=0,\n",
       "                    warm_start=False),\n",
       " 'learning_rate': 0.001,\n",
       " 'n_estimators': 100}"
      ]
     },
     "execution_count": 52,
     "metadata": {},
     "output_type": "execute_result"
    }
   ],
   "source": [
    "parameters=[{'base_estimator':[lr,xgb,gbc],'n_estimators':[100,250,500],'learning_rate':[0.1,0.001,1]}]\n",
    "            \n",
    "grid_search=GridSearchCV(ada,parameters,scoring='accuracy',n_jobs=-1,cv=5)\n",
    "grid_search=grid_search.fit(x_train,y_train)\n",
    "grid_search.best_params_ "
   ]
  },
  {
   "cell_type": "code",
   "execution_count": 62,
   "metadata": {},
   "outputs": [
    {
     "name": "stdout",
     "output_type": "stream",
     "text": [
      "Accuracy=   0.8582089552238806\n"
     ]
    }
   ],
   "source": [
    "x_train,x_test,y_train,y_test=train_test_split(x,y,random_state=63,stratify=y)\n",
    "ada=AdaBoostClassifier(base_estimator=LogisticRegression(random_state=63),n_estimators=100,learning_rate=0.001)\n",
    "ada.fit(x_train,y_train)\n",
    "pred_ada=ada.predict(x_test)\n",
    "score=accuracy_score(y_test,pred_ada)\n",
    "print('Accuracy=  ',score)\n"
   ]
  },
  {
   "cell_type": "code",
   "execution_count": 52,
   "metadata": {},
   "outputs": [
    {
     "name": "stdout",
     "output_type": "stream",
     "text": [
      "cross_val_scores=   0.7879661771250557\n"
     ]
    },
    {
     "data": {
      "text/plain": [
       "array([[ 87,  36],\n",
       "       [ 77, 333]], dtype=int64)"
      ]
     },
     "execution_count": 52,
     "metadata": {},
     "output_type": "execute_result"
    }
   ],
   "source": [
    "#Cross validating the model and checking the cross_val_score,model giving highest score will be choosen as final model.\n",
    "from sklearn.model_selection import cross_val_predict\n",
    "ada=AdaBoostClassifier(base_estimator=LogisticRegression(random_state=63),n_estimators=100,learning_rate=0.001)\n",
    "cvs=cross_val_score(ada,x,y,scoring='accuracy',cv=5)\n",
    "print('cross_val_scores=  ',cvs.mean())\n",
    "y_pred=cross_val_predict(ada,x,y,cv=5)\n",
    "conf_mat=confusion_matrix(y_pred,y)\n",
    "conf_mat"
   ]
  },
  {
   "cell_type": "markdown",
   "metadata": {},
   "source": [
    "# model-2-->SVC(accuracy=88.05%) at random_state=63"
   ]
  },
  {
   "cell_type": "code",
   "execution_count": 34,
   "metadata": {},
   "outputs": [],
   "source": [
    "svc=SVC()\n",
    "x_train,x_test,y_train,y_test=train_test_split(x,y,random_state=63,stratify=y)"
   ]
  },
  {
   "cell_type": "code",
   "execution_count": 49,
   "metadata": {},
   "outputs": [
    {
     "data": {
      "text/plain": [
       "{'C': 0.5, 'kernel': 'rbf'}"
      ]
     },
     "execution_count": 49,
     "metadata": {},
     "output_type": "execute_result"
    }
   ],
   "source": [
    "parameters=[{'C':[0.1,0.5,1,2],'kernel':['rbf','linear','poly']}]\n",
    "            \n",
    "grid_search=GridSearchCV(svc,parameters,scoring='accuracy',n_jobs=-1,cv=10)\n",
    "grid_search=grid_search.fit(x_train,y_train)\n",
    "grid_search.best_params_ "
   ]
  },
  {
   "cell_type": "code",
   "execution_count": 35,
   "metadata": {},
   "outputs": [
    {
     "name": "stdout",
     "output_type": "stream",
     "text": [
      "Accuracy_score=   0.8059701492537313\n"
     ]
    }
   ],
   "source": [
    "x_train,x_test,y_train,y_test=train_test_split(x,y,random_state=56,stratify=y)\n",
    "svc=SVC(C=0.5,kernel='rbf')\n",
    "svc.fit(x_train,y_train)\n",
    "pred_svc=svc.predict(x_test)\n",
    "score=accuracy_score(y_test,pred_svc)\n",
    "print('Accuracy_score=  ',score)"
   ]
  },
  {
   "cell_type": "code",
   "execution_count": 53,
   "metadata": {},
   "outputs": [
    {
     "name": "stdout",
     "output_type": "stream",
     "text": [
      "cross_val_scores=   0.8124432576769024\n"
     ]
    },
    {
     "data": {
      "text/plain": [
       "array([[ 79,  15],\n",
       "       [ 85, 354]], dtype=int64)"
      ]
     },
     "execution_count": 53,
     "metadata": {},
     "output_type": "execute_result"
    }
   ],
   "source": [
    "#Cross validating the model and checking the cross_val_score,model giving highest score will be choosen as final model.\n",
    "from sklearn.model_selection import cross_val_predict\n",
    "svc=SVC(C=0.5,kernel='rbf')\n",
    "cvs=cross_val_score(svc,x,y,scoring='accuracy',cv=5)\n",
    "print('cross_val_scores=  ',cvs.mean())\n",
    "y_pred=cross_val_predict(svc,x,y,cv=5)\n",
    "conf_mat=confusion_matrix(y_pred,y)\n",
    "conf_mat"
   ]
  },
  {
   "cell_type": "markdown",
   "metadata": {},
   "source": [
    "# model-3-->GradientBoostingClassifier(accuracy=84%) at random_state=96"
   ]
  },
  {
   "cell_type": "code",
   "execution_count": 54,
   "metadata": {},
   "outputs": [],
   "source": [
    "gbc=GradientBoostingClassifier()\n",
    "x_train,x_test,y_train,y_test=train_test_split(x,y,random_state=96,stratify=y)"
   ]
  },
  {
   "cell_type": "code",
   "execution_count": 55,
   "metadata": {},
   "outputs": [
    {
     "name": "stderr",
     "output_type": "stream",
     "text": [
      "C:\\ProgramData\\Anaconda3\\lib\\site-packages\\sklearn\\model_selection\\_search.py:814: DeprecationWarning: The default of the `iid` parameter will change from True to False in version 0.22 and will be removed in 0.24. This will change numeric results when test-set sizes are unequal.\n",
      "  DeprecationWarning)\n"
     ]
    },
    {
     "data": {
      "text/plain": [
       "{'learning_rate': 1, 'max_depth': 9, 'n_estimators': 100}"
      ]
     },
     "execution_count": 55,
     "metadata": {},
     "output_type": "execute_result"
    }
   ],
   "source": [
    "parameters=[{'max_depth':[5,7,9,10],'learning_rate':[1,0.1,0.001],'n_estimators':[100,250,500]}]\n",
    "            \n",
    "grid_search=GridSearchCV(gbc,parameters,scoring='accuracy',n_jobs=-1,cv=10)\n",
    "grid_search=grid_search.fit(x_train,y_train)\n",
    "grid_search.best_params_ "
   ]
  },
  {
   "cell_type": "code",
   "execution_count": 56,
   "metadata": {},
   "outputs": [
    {
     "name": "stdout",
     "output_type": "stream",
     "text": [
      "Accuracy_score=   0.7835820895522388\n"
     ]
    }
   ],
   "source": [
    "x_train,x_test,y_train,y_test=train_test_split(x,y,random_state=96,stratify=y)\n",
    "gbc=GradientBoostingClassifier(learning_rate=0.001,max_depth=5,n_estimators=500)\n",
    "gbc.fit(x_train,y_train)\n",
    "pred_gbc=gbc.predict(x_test)\n",
    "score=accuracy_score(y_test,pred_gbc)\n",
    "print('Accuracy_score=  ',score)"
   ]
  },
  {
   "cell_type": "code",
   "execution_count": 54,
   "metadata": {},
   "outputs": [
    {
     "name": "stdout",
     "output_type": "stream",
     "text": [
      "cross_val_scores=   0.8030618602581219\n"
     ]
    },
    {
     "data": {
      "text/plain": [
       "array([[ 67,   8],\n",
       "       [ 97, 361]], dtype=int64)"
      ]
     },
     "execution_count": 54,
     "metadata": {},
     "output_type": "execute_result"
    }
   ],
   "source": [
    "#Cross validating the model and checking the cross_val_score,model giving highest score will be choosen as final model.\n",
    "from sklearn.model_selection import cross_val_predict\n",
    "gbc=GradientBoostingClassifier(learning_rate=0.001,max_depth=5,n_estimators=500)\n",
    "cvs=cross_val_score(gbc,x,y,scoring='accuracy',cv=5)\n",
    "print('cross_val_scores=  ',cvs.mean())\n",
    "y_pred=cross_val_predict(gbc,x,y,cv=5)\n",
    "conf_mat=confusion_matrix(y_pred,y)\n",
    "conf_mat"
   ]
  },
  {
   "cell_type": "markdown",
   "metadata": {},
   "source": [
    "# model-4-->XGBoostClassifier(accuracy=84.32%) at random_state=46"
   ]
  },
  {
   "cell_type": "code",
   "execution_count": 45,
   "metadata": {},
   "outputs": [],
   "source": [
    "xgb=XGBClassifier()\n",
    "x_train,x_test,y_train,y_test=train_test_split(x,y,random_state=46,stratify=y)"
   ]
  },
  {
   "cell_type": "code",
   "execution_count": 46,
   "metadata": {},
   "outputs": [
    {
     "name": "stderr",
     "output_type": "stream",
     "text": [
      "C:\\ProgramData\\Anaconda3\\lib\\site-packages\\sklearn\\model_selection\\_search.py:814: DeprecationWarning: The default of the `iid` parameter will change from True to False in version 0.22 and will be removed in 0.24. This will change numeric results when test-set sizes are unequal.\n",
      "  DeprecationWarning)\n"
     ]
    },
    {
     "data": {
      "text/plain": [
       "{'learning_rate': 0.1, 'max_depth': 5}"
      ]
     },
     "execution_count": 46,
     "metadata": {},
     "output_type": "execute_result"
    }
   ],
   "source": [
    "parameters=[{'max_depth':[5,7,9,10],'learning_rate':[1,0.1,0.001]}]\n",
    "            \n",
    "grid_search=GridSearchCV(xgb,parameters,scoring='accuracy',n_jobs=-1,cv=10)\n",
    "grid_search=grid_search.fit(x_train,y_train)\n",
    "grid_search.best_params_ "
   ]
  },
  {
   "cell_type": "code",
   "execution_count": 47,
   "metadata": {},
   "outputs": [
    {
     "name": "stdout",
     "output_type": "stream",
     "text": [
      "Accuracy_score=   0.8134328358208955\n"
     ]
    }
   ],
   "source": [
    "x_train,x_test,y_train,y_test=train_test_split(x,y,random_state=46,stratify=y)\n",
    "xgb=XGBClassifier(learning_rate=0.1,max_depth=5)\n",
    "xgb.fit(x_train,y_train)\n",
    "pred_xgb=xgb.predict(x_test)\n",
    "score=accuracy_score(y_test,pred_xgb)\n",
    "print('Accuracy_score=  ',score)"
   ]
  },
  {
   "cell_type": "code",
   "execution_count": 55,
   "metadata": {},
   "outputs": [
    {
     "name": "stdout",
     "output_type": "stream",
     "text": [
      "cross_val_scores=   0.7899065420560747\n"
     ]
    },
    {
     "data": {
      "text/plain": [
       "array([[ 80,  28],\n",
       "       [ 84, 341]], dtype=int64)"
      ]
     },
     "execution_count": 55,
     "metadata": {},
     "output_type": "execute_result"
    }
   ],
   "source": [
    "#Cross validating the model and checking the cross_val_score,model giving highest score will be choosen as final model.\n",
    "from sklearn.model_selection import cross_val_predict\n",
    "xgb=XGBClassifier(learning_rate=0.1,max_depth=5)\n",
    "cvs=cross_val_score(xgb,x,y,scoring='accuracy',cv=5)\n",
    "print('cross_val_scores=  ',cvs.mean())\n",
    "y_pred=cross_val_predict(xgb,x,y,cv=5)\n",
    "conf_mat=confusion_matrix(y_pred,y)\n",
    "conf_mat"
   ]
  },
  {
   "cell_type": "markdown",
   "metadata": {},
   "source": [
    "# Saving the SVC model"
   ]
  },
  {
   "cell_type": "code",
   "execution_count": 56,
   "metadata": {},
   "outputs": [
    {
     "name": "stdout",
     "output_type": "stream",
     "text": [
      "cross_val_scores=   0.8124432576769024\n"
     ]
    },
    {
     "data": {
      "text/plain": [
       "array([[ 79,  15],\n",
       "       [ 85, 354]], dtype=int64)"
      ]
     },
     "execution_count": 56,
     "metadata": {},
     "output_type": "execute_result"
    }
   ],
   "source": [
    "#From all the model tried above SVC model's has highest cross_val_score ,\n",
    "#Hence saving the SVC model\n",
    "x_train,x_test,y_train,y_test=train_test_split(x,y,random_state=56,stratify=y)\n",
    "\n",
    "svc=SVC(C=0.5,kernel='rbf')\n",
    "svc.fit(x_train,y_train)\n",
    "cvs=cross_val_score(svc,x,y,scoring='accuracy',cv=5)\n",
    "print('cross_val_scores=  ',cvs.mean())\n",
    "y_pred=cross_val_predict(svc,x,y,cv=5)\n",
    "conf_mat=confusion_matrix(y_pred,y)\n",
    "conf_mat"
   ]
  },
  {
   "cell_type": "code",
   "execution_count": 38,
   "metadata": {},
   "outputs": [
    {
     "data": {
      "text/plain": [
       "['project7-fraudloandetection.obj']"
      ]
     },
     "execution_count": 38,
     "metadata": {},
     "output_type": "execute_result"
    }
   ],
   "source": [
    "from sklearn.externals import joblib\n",
    "joblib.dump(svc,'project7-fraudloandetection.obj')"
   ]
  },
  {
   "cell_type": "code",
   "execution_count": 39,
   "metadata": {},
   "outputs": [],
   "source": [
    "model=joblib.load('project7-fraudloandetection.obj')"
   ]
  },
  {
   "cell_type": "code",
   "execution_count": 40,
   "metadata": {},
   "outputs": [
    {
     "data": {
      "text/html": [
       "<div>\n",
       "<style scoped>\n",
       "    .dataframe tbody tr th:only-of-type {\n",
       "        vertical-align: middle;\n",
       "    }\n",
       "\n",
       "    .dataframe tbody tr th {\n",
       "        vertical-align: top;\n",
       "    }\n",
       "\n",
       "    .dataframe thead th {\n",
       "        text-align: right;\n",
       "    }\n",
       "</style>\n",
       "<table border=\"1\" class=\"dataframe\">\n",
       "  <thead>\n",
       "    <tr style=\"text-align: right;\">\n",
       "      <th></th>\n",
       "      <th>Fraud yes(1)no(0)</th>\n",
       "    </tr>\n",
       "  </thead>\n",
       "  <tbody>\n",
       "    <tr>\n",
       "      <td>0</td>\n",
       "      <td>1</td>\n",
       "    </tr>\n",
       "    <tr>\n",
       "      <td>1</td>\n",
       "      <td>1</td>\n",
       "    </tr>\n",
       "    <tr>\n",
       "      <td>2</td>\n",
       "      <td>1</td>\n",
       "    </tr>\n",
       "    <tr>\n",
       "      <td>3</td>\n",
       "      <td>1</td>\n",
       "    </tr>\n",
       "    <tr>\n",
       "      <td>4</td>\n",
       "      <td>0</td>\n",
       "    </tr>\n",
       "  </tbody>\n",
       "</table>\n",
       "</div>"
      ],
      "text/plain": [
       "   Fraud yes(1)no(0)\n",
       "0                  1\n",
       "1                  1\n",
       "2                  1\n",
       "3                  1\n",
       "4                  0"
      ]
     },
     "execution_count": 40,
     "metadata": {},
     "output_type": "execute_result"
    }
   ],
   "source": [
    "Final_predictions=model.predict(x_test)\n",
    "Final_predictions=pd.DataFrame(Final_predictions,columns=['Fraud yes(1)no(0)'])\n",
    "Final_predictions[:5]"
   ]
  },
  {
   "cell_type": "markdown",
   "metadata": {},
   "source": [
    "# Saving final predictions in file.csv format"
   ]
  },
  {
   "cell_type": "code",
   "execution_count": 67,
   "metadata": {},
   "outputs": [],
   "source": [
    "Final_predictions.to_csv('E:\\\\final_predictionsfraud.csv',index=False)"
   ]
  },
  {
   "cell_type": "markdown",
   "metadata": {},
   "source": [
    "# Conclusion:-"
   ]
  },
  {
   "cell_type": "raw",
   "metadata": {},
   "source": [
    "1-Wether the Loan to be given yes(1) or not(0) can be predicted using the model above. \n",
    "2-By using sklearn(SVC)we have build a machine learning model that will predict wether the a loan should be given(1) or not(0).\n"
   ]
  }
 ],
 "metadata": {
  "kernelspec": {
   "display_name": "Python 3",
   "language": "python",
   "name": "python3"
  },
  "language_info": {
   "codemirror_mode": {
    "name": "ipython",
    "version": 3
   },
   "file_extension": ".py",
   "mimetype": "text/x-python",
   "name": "python",
   "nbconvert_exporter": "python",
   "pygments_lexer": "ipython3",
   "version": "3.7.4"
  }
 },
 "nbformat": 4,
 "nbformat_minor": 2
}
